{
 "cells": [
  {
   "cell_type": "code",
   "execution_count": 1,
   "metadata": {},
   "outputs": [],
   "source": [
    "import pandas as pd\n",
    "import numpy as np\n",
    "import seaborn as sns \n",
    "\n",
    "from sklearn.model_selection import train_test_split\n",
    "from sklearn.linear_model import LogisticRegression\n",
    "from sklearn import metrics\n",
    "import seaborn as sns\n",
    "import matplotlib.pyplot as plt"
   ]
  },
  {
   "cell_type": "markdown",
   "metadata": {},
   "source": [
    "Now we need two dataframes; one scaled and one unscaled.\n",
    "\n"
   ]
  },
  {
   "cell_type": "code",
   "execution_count": 2,
   "metadata": {},
   "outputs": [
    {
     "data": {
      "text/html": [
       "<div>\n",
       "<style scoped>\n",
       "    .dataframe tbody tr th:only-of-type {\n",
       "        vertical-align: middle;\n",
       "    }\n",
       "\n",
       "    .dataframe tbody tr th {\n",
       "        vertical-align: top;\n",
       "    }\n",
       "\n",
       "    .dataframe thead th {\n",
       "        text-align: right;\n",
       "    }\n",
       "</style>\n",
       "<table border=\"1\" class=\"dataframe\">\n",
       "  <thead>\n",
       "    <tr style=\"text-align: right;\">\n",
       "      <th></th>\n",
       "      <th>age</th>\n",
       "      <th>cigsPerDay</th>\n",
       "      <th>totChol</th>\n",
       "      <th>sysBP</th>\n",
       "      <th>diaBP</th>\n",
       "      <th>BMI</th>\n",
       "      <th>heartRate</th>\n",
       "      <th>glucose</th>\n",
       "      <th>gender</th>\n",
       "      <th>education</th>\n",
       "      <th>currentSmoker</th>\n",
       "      <th>BPMeds</th>\n",
       "      <th>prevalentStroke</th>\n",
       "      <th>prevalentHyp</th>\n",
       "      <th>diabetes</th>\n",
       "      <th>TenYearCHD</th>\n",
       "    </tr>\n",
       "  </thead>\n",
       "  <tbody>\n",
       "    <tr>\n",
       "      <th>0</th>\n",
       "      <td>-1.234951</td>\n",
       "      <td>-0.757974</td>\n",
       "      <td>-0.911620</td>\n",
       "      <td>-1.195907</td>\n",
       "      <td>-1.082625</td>\n",
       "      <td>0.286943</td>\n",
       "      <td>0.342816</td>\n",
       "      <td>-0.167632</td>\n",
       "      <td>1</td>\n",
       "      <td>4.0</td>\n",
       "      <td>0</td>\n",
       "      <td>0.0</td>\n",
       "      <td>0</td>\n",
       "      <td>0</td>\n",
       "      <td>0</td>\n",
       "      <td>0</td>\n",
       "    </tr>\n",
       "    <tr>\n",
       "      <th>1</th>\n",
       "      <td>-0.418257</td>\n",
       "      <td>-0.757974</td>\n",
       "      <td>0.313245</td>\n",
       "      <td>-0.515187</td>\n",
       "      <td>-0.158988</td>\n",
       "      <td>0.719325</td>\n",
       "      <td>1.590331</td>\n",
       "      <td>-0.210935</td>\n",
       "      <td>0</td>\n",
       "      <td>2.0</td>\n",
       "      <td>0</td>\n",
       "      <td>0.0</td>\n",
       "      <td>0</td>\n",
       "      <td>0</td>\n",
       "      <td>0</td>\n",
       "      <td>0</td>\n",
       "    </tr>\n",
       "    <tr>\n",
       "      <th>2</th>\n",
       "      <td>-0.184916</td>\n",
       "      <td>0.925835</td>\n",
       "      <td>0.201893</td>\n",
       "      <td>-0.220209</td>\n",
       "      <td>-0.242955</td>\n",
       "      <td>-0.113502</td>\n",
       "      <td>-0.073022</td>\n",
       "      <td>-0.470751</td>\n",
       "      <td>1</td>\n",
       "      <td>1.0</td>\n",
       "      <td>1</td>\n",
       "      <td>0.0</td>\n",
       "      <td>0</td>\n",
       "      <td>0</td>\n",
       "      <td>0</td>\n",
       "      <td>0</td>\n",
       "    </tr>\n",
       "    <tr>\n",
       "      <th>3</th>\n",
       "      <td>1.331800</td>\n",
       "      <td>1.767740</td>\n",
       "      <td>-0.243512</td>\n",
       "      <td>0.800871</td>\n",
       "      <td>1.016549</td>\n",
       "      <td>0.682474</td>\n",
       "      <td>-0.904698</td>\n",
       "      <td>0.958239</td>\n",
       "      <td>0</td>\n",
       "      <td>3.0</td>\n",
       "      <td>1</td>\n",
       "      <td>0.0</td>\n",
       "      <td>0</td>\n",
       "      <td>1</td>\n",
       "      <td>0</td>\n",
       "      <td>1</td>\n",
       "    </tr>\n",
       "    <tr>\n",
       "      <th>4</th>\n",
       "      <td>-0.418257</td>\n",
       "      <td>1.178407</td>\n",
       "      <td>1.092704</td>\n",
       "      <td>-0.106755</td>\n",
       "      <td>0.092912</td>\n",
       "      <td>-0.663807</td>\n",
       "      <td>0.758655</td>\n",
       "      <td>0.178790</td>\n",
       "      <td>0</td>\n",
       "      <td>3.0</td>\n",
       "      <td>1</td>\n",
       "      <td>0.0</td>\n",
       "      <td>0</td>\n",
       "      <td>0</td>\n",
       "      <td>0</td>\n",
       "      <td>0</td>\n",
       "    </tr>\n",
       "  </tbody>\n",
       "</table>\n",
       "</div>"
      ],
      "text/plain": [
       "        age  cigsPerDay   totChol     sysBP     diaBP       BMI  heartRate  \\\n",
       "0 -1.234951   -0.757974 -0.911620 -1.195907 -1.082625  0.286943   0.342816   \n",
       "1 -0.418257   -0.757974  0.313245 -0.515187 -0.158988  0.719325   1.590331   \n",
       "2 -0.184916    0.925835  0.201893 -0.220209 -0.242955 -0.113502  -0.073022   \n",
       "3  1.331800    1.767740 -0.243512  0.800871  1.016549  0.682474  -0.904698   \n",
       "4 -0.418257    1.178407  1.092704 -0.106755  0.092912 -0.663807   0.758655   \n",
       "\n",
       "    glucose  gender  education  currentSmoker  BPMeds  prevalentStroke  \\\n",
       "0 -0.167632       1        4.0              0     0.0                0   \n",
       "1 -0.210935       0        2.0              0     0.0                0   \n",
       "2 -0.470751       1        1.0              1     0.0                0   \n",
       "3  0.958239       0        3.0              1     0.0                0   \n",
       "4  0.178790       0        3.0              1     0.0                0   \n",
       "\n",
       "   prevalentHyp  diabetes  TenYearCHD  \n",
       "0             0         0           0  \n",
       "1             0         0           0  \n",
       "2             0         0           0  \n",
       "3             1         0           1  \n",
       "4             0         0           0  "
      ]
     },
     "execution_count": 2,
     "metadata": {},
     "output_type": "execute_result"
    }
   ],
   "source": [
    "df_scaled = pd.read_csv(\"C:\\\\Users\\\\hksid\\\\Downloads\\\\Python 3\\\\Files\\\\df_scaled.csv\")\n",
    "df_scaled.head()"
   ]
  },
  {
   "cell_type": "code",
   "execution_count": 3,
   "metadata": {},
   "outputs": [
    {
     "data": {
      "text/html": [
       "<div>\n",
       "<style scoped>\n",
       "    .dataframe tbody tr th:only-of-type {\n",
       "        vertical-align: middle;\n",
       "    }\n",
       "\n",
       "    .dataframe tbody tr th {\n",
       "        vertical-align: top;\n",
       "    }\n",
       "\n",
       "    .dataframe thead th {\n",
       "        text-align: right;\n",
       "    }\n",
       "</style>\n",
       "<table border=\"1\" class=\"dataframe\">\n",
       "  <thead>\n",
       "    <tr style=\"text-align: right;\">\n",
       "      <th></th>\n",
       "      <th>gender</th>\n",
       "      <th>age</th>\n",
       "      <th>education</th>\n",
       "      <th>currentSmoker</th>\n",
       "      <th>cigsPerDay</th>\n",
       "      <th>BPMeds</th>\n",
       "      <th>prevalentStroke</th>\n",
       "      <th>prevalentHyp</th>\n",
       "      <th>diabetes</th>\n",
       "      <th>totChol</th>\n",
       "      <th>sysBP</th>\n",
       "      <th>diaBP</th>\n",
       "      <th>BMI</th>\n",
       "      <th>heartRate</th>\n",
       "      <th>glucose</th>\n",
       "      <th>TenYearCHD</th>\n",
       "    </tr>\n",
       "  </thead>\n",
       "  <tbody>\n",
       "    <tr>\n",
       "      <th>0</th>\n",
       "      <td>1</td>\n",
       "      <td>39</td>\n",
       "      <td>4.0</td>\n",
       "      <td>0</td>\n",
       "      <td>0.0</td>\n",
       "      <td>0.0</td>\n",
       "      <td>0</td>\n",
       "      <td>0</td>\n",
       "      <td>0</td>\n",
       "      <td>195.0</td>\n",
       "      <td>106.0</td>\n",
       "      <td>70.0</td>\n",
       "      <td>26.97</td>\n",
       "      <td>80.0</td>\n",
       "      <td>77.0</td>\n",
       "      <td>0</td>\n",
       "    </tr>\n",
       "    <tr>\n",
       "      <th>1</th>\n",
       "      <td>0</td>\n",
       "      <td>46</td>\n",
       "      <td>2.0</td>\n",
       "      <td>0</td>\n",
       "      <td>0.0</td>\n",
       "      <td>0.0</td>\n",
       "      <td>0</td>\n",
       "      <td>0</td>\n",
       "      <td>0</td>\n",
       "      <td>250.0</td>\n",
       "      <td>121.0</td>\n",
       "      <td>81.0</td>\n",
       "      <td>28.73</td>\n",
       "      <td>95.0</td>\n",
       "      <td>76.0</td>\n",
       "      <td>0</td>\n",
       "    </tr>\n",
       "    <tr>\n",
       "      <th>2</th>\n",
       "      <td>1</td>\n",
       "      <td>48</td>\n",
       "      <td>1.0</td>\n",
       "      <td>1</td>\n",
       "      <td>20.0</td>\n",
       "      <td>0.0</td>\n",
       "      <td>0</td>\n",
       "      <td>0</td>\n",
       "      <td>0</td>\n",
       "      <td>245.0</td>\n",
       "      <td>127.5</td>\n",
       "      <td>80.0</td>\n",
       "      <td>25.34</td>\n",
       "      <td>75.0</td>\n",
       "      <td>70.0</td>\n",
       "      <td>0</td>\n",
       "    </tr>\n",
       "    <tr>\n",
       "      <th>3</th>\n",
       "      <td>0</td>\n",
       "      <td>61</td>\n",
       "      <td>3.0</td>\n",
       "      <td>1</td>\n",
       "      <td>30.0</td>\n",
       "      <td>0.0</td>\n",
       "      <td>0</td>\n",
       "      <td>1</td>\n",
       "      <td>0</td>\n",
       "      <td>225.0</td>\n",
       "      <td>150.0</td>\n",
       "      <td>95.0</td>\n",
       "      <td>28.58</td>\n",
       "      <td>65.0</td>\n",
       "      <td>103.0</td>\n",
       "      <td>1</td>\n",
       "    </tr>\n",
       "    <tr>\n",
       "      <th>4</th>\n",
       "      <td>0</td>\n",
       "      <td>46</td>\n",
       "      <td>3.0</td>\n",
       "      <td>1</td>\n",
       "      <td>23.0</td>\n",
       "      <td>0.0</td>\n",
       "      <td>0</td>\n",
       "      <td>0</td>\n",
       "      <td>0</td>\n",
       "      <td>285.0</td>\n",
       "      <td>130.0</td>\n",
       "      <td>84.0</td>\n",
       "      <td>23.10</td>\n",
       "      <td>85.0</td>\n",
       "      <td>85.0</td>\n",
       "      <td>0</td>\n",
       "    </tr>\n",
       "  </tbody>\n",
       "</table>\n",
       "</div>"
      ],
      "text/plain": [
       "   gender  age  education  currentSmoker  cigsPerDay  BPMeds  prevalentStroke  \\\n",
       "0       1   39        4.0              0         0.0     0.0                0   \n",
       "1       0   46        2.0              0         0.0     0.0                0   \n",
       "2       1   48        1.0              1        20.0     0.0                0   \n",
       "3       0   61        3.0              1        30.0     0.0                0   \n",
       "4       0   46        3.0              1        23.0     0.0                0   \n",
       "\n",
       "   prevalentHyp  diabetes  totChol  sysBP  diaBP    BMI  heartRate  glucose  \\\n",
       "0             0         0    195.0  106.0   70.0  26.97       80.0     77.0   \n",
       "1             0         0    250.0  121.0   81.0  28.73       95.0     76.0   \n",
       "2             0         0    245.0  127.5   80.0  25.34       75.0     70.0   \n",
       "3             1         0    225.0  150.0   95.0  28.58       65.0    103.0   \n",
       "4             0         0    285.0  130.0   84.0  23.10       85.0     85.0   \n",
       "\n",
       "   TenYearCHD  \n",
       "0           0  \n",
       "1           0  \n",
       "2           0  \n",
       "3           1  \n",
       "4           0  "
      ]
     },
     "execution_count": 3,
     "metadata": {},
     "output_type": "execute_result"
    }
   ],
   "source": [
    "df_unscaled = pd.read_csv(\"C:\\\\Users\\\\hksid\\\\Downloads\\\\Python 3\\\\Files\\\\HD_nomissing.csv\")\n",
    "df_unscaled.head()"
   ]
  },
  {
   "cell_type": "code",
   "execution_count": 4,
   "metadata": {},
   "outputs": [
    {
     "data": {
      "text/html": [
       "<div>\n",
       "<style scoped>\n",
       "    .dataframe tbody tr th:only-of-type {\n",
       "        vertical-align: middle;\n",
       "    }\n",
       "\n",
       "    .dataframe tbody tr th {\n",
       "        vertical-align: top;\n",
       "    }\n",
       "\n",
       "    .dataframe thead th {\n",
       "        text-align: right;\n",
       "    }\n",
       "</style>\n",
       "<table border=\"1\" class=\"dataframe\">\n",
       "  <thead>\n",
       "    <tr style=\"text-align: right;\">\n",
       "      <th></th>\n",
       "      <th>gender</th>\n",
       "      <th>age</th>\n",
       "      <th>education</th>\n",
       "      <th>currentSmoker</th>\n",
       "      <th>cigsPerDay</th>\n",
       "      <th>BPMeds</th>\n",
       "      <th>prevalentStroke</th>\n",
       "      <th>prevalentHyp</th>\n",
       "      <th>diabetes</th>\n",
       "      <th>totChol</th>\n",
       "      <th>sysBP</th>\n",
       "      <th>diaBP</th>\n",
       "      <th>BMI</th>\n",
       "      <th>heartRate</th>\n",
       "      <th>glucose</th>\n",
       "    </tr>\n",
       "  </thead>\n",
       "  <tbody>\n",
       "    <tr>\n",
       "      <th>3873</th>\n",
       "      <td>1</td>\n",
       "      <td>-0.418257</td>\n",
       "      <td>5.0</td>\n",
       "      <td>0</td>\n",
       "      <td>-0.757974</td>\n",
       "      <td>0.0</td>\n",
       "      <td>0</td>\n",
       "      <td>0</td>\n",
       "      <td>0</td>\n",
       "      <td>-1.067512</td>\n",
       "      <td>0.120151</td>\n",
       "      <td>1.016549</td>\n",
       "      <td>0.255005</td>\n",
       "      <td>-1.320537</td>\n",
       "      <td>-0.124329</td>\n",
       "    </tr>\n",
       "    <tr>\n",
       "      <th>781</th>\n",
       "      <td>1</td>\n",
       "      <td>-1.701633</td>\n",
       "      <td>3.0</td>\n",
       "      <td>1</td>\n",
       "      <td>2.609645</td>\n",
       "      <td>0.0</td>\n",
       "      <td>0</td>\n",
       "      <td>0</td>\n",
       "      <td>0</td>\n",
       "      <td>-1.357025</td>\n",
       "      <td>-0.923619</td>\n",
       "      <td>-1.712377</td>\n",
       "      <td>-1.172347</td>\n",
       "      <td>-0.239357</td>\n",
       "      <td>-0.514054</td>\n",
       "    </tr>\n",
       "    <tr>\n",
       "      <th>703</th>\n",
       "      <td>0</td>\n",
       "      <td>-0.301587</td>\n",
       "      <td>3.0</td>\n",
       "      <td>0</td>\n",
       "      <td>-0.757974</td>\n",
       "      <td>0.0</td>\n",
       "      <td>0</td>\n",
       "      <td>0</td>\n",
       "      <td>0</td>\n",
       "      <td>1.293136</td>\n",
       "      <td>-1.059763</td>\n",
       "      <td>-0.872708</td>\n",
       "      <td>0.684931</td>\n",
       "      <td>0.509152</td>\n",
       "      <td>-0.167632</td>\n",
       "    </tr>\n",
       "    <tr>\n",
       "      <th>2675</th>\n",
       "      <td>1</td>\n",
       "      <td>-1.468292</td>\n",
       "      <td>2.0</td>\n",
       "      <td>1</td>\n",
       "      <td>1.767740</td>\n",
       "      <td>0.0</td>\n",
       "      <td>0</td>\n",
       "      <td>0</td>\n",
       "      <td>0</td>\n",
       "      <td>-1.267944</td>\n",
       "      <td>-0.038683</td>\n",
       "      <td>-0.158988</td>\n",
       "      <td>-0.199487</td>\n",
       "      <td>-0.987866</td>\n",
       "      <td>-0.557356</td>\n",
       "    </tr>\n",
       "    <tr>\n",
       "      <th>394</th>\n",
       "      <td>0</td>\n",
       "      <td>1.798482</td>\n",
       "      <td>2.0</td>\n",
       "      <td>0</td>\n",
       "      <td>-0.757974</td>\n",
       "      <td>0.0</td>\n",
       "      <td>0</td>\n",
       "      <td>1</td>\n",
       "      <td>0</td>\n",
       "      <td>0.446866</td>\n",
       "      <td>0.755490</td>\n",
       "      <td>1.100516</td>\n",
       "      <td>0.969910</td>\n",
       "      <td>1.174493</td>\n",
       "      <td>-0.037724</td>\n",
       "    </tr>\n",
       "  </tbody>\n",
       "</table>\n",
       "</div>"
      ],
      "text/plain": [
       "      gender       age  education  currentSmoker  cigsPerDay  BPMeds  \\\n",
       "3873       1 -0.418257        5.0              0   -0.757974     0.0   \n",
       "781        1 -1.701633        3.0              1    2.609645     0.0   \n",
       "703        0 -0.301587        3.0              0   -0.757974     0.0   \n",
       "2675       1 -1.468292        2.0              1    1.767740     0.0   \n",
       "394        0  1.798482        2.0              0   -0.757974     0.0   \n",
       "\n",
       "      prevalentStroke  prevalentHyp  diabetes   totChol     sysBP     diaBP  \\\n",
       "3873                0             0         0 -1.067512  0.120151  1.016549   \n",
       "781                 0             0         0 -1.357025 -0.923619 -1.712377   \n",
       "703                 0             0         0  1.293136 -1.059763 -0.872708   \n",
       "2675                0             0         0 -1.267944 -0.038683 -0.158988   \n",
       "394                 0             1         0  0.446866  0.755490  1.100516   \n",
       "\n",
       "           BMI  heartRate   glucose  \n",
       "3873  0.255005  -1.320537 -0.124329  \n",
       "781  -1.172347  -0.239357 -0.514054  \n",
       "703   0.684931   0.509152 -0.167632  \n",
       "2675 -0.199487  -0.987866 -0.557356  \n",
       "394   0.969910   1.174493 -0.037724  "
      ]
     },
     "execution_count": 4,
     "metadata": {},
     "output_type": "execute_result"
    }
   ],
   "source": [
    "X= df_scaled[['gender','age','education','currentSmoker','cigsPerDay','BPMeds','prevalentStroke','prevalentHyp','diabetes','totChol','sysBP','diaBP','BMI','heartRate','glucose']].copy()\n",
    "Y= df_scaled[['TenYearCHD']].copy()\n",
    "\n",
    "X_train,X_test,Y_train,Y_test = train_test_split(X,Y,test_size=0.2,random_state=1)\n",
    "\n",
    "X_train.head()\n"
   ]
  },
  {
   "cell_type": "code",
   "execution_count": 5,
   "metadata": {},
   "outputs": [],
   "source": [
    "X1= df_unscaled[['gender','age','education','currentSmoker','cigsPerDay','BPMeds','prevalentStroke','prevalentHyp','diabetes','totChol','sysBP','diaBP','BMI','heartRate','glucose']].copy()\n",
    "Y1= df_unscaled[['TenYearCHD']].copy()\n",
    "\n",
    "X1_train,X1_test,Y1_train,Y1_test = train_test_split(X1,Y1,test_size=0.2,random_state=1)\n",
    "\n",
    "\n"
   ]
  },
  {
   "cell_type": "code",
   "execution_count": 6,
   "metadata": {},
   "outputs": [
    {
     "name": "stdout",
     "output_type": "stream",
     "text": [
      "Requirement already satisfied: factor-analyzer in c:\\users\\hksid\\anaconda3\\lib\\site-packages (0.3.2)\n",
      "Requirement already satisfied: scipy in c:\\users\\hksid\\anaconda3\\lib\\site-packages (from factor-analyzer) (1.4.1)\n",
      "Requirement already satisfied: numpy in c:\\users\\hksid\\anaconda3\\lib\\site-packages (from factor-analyzer) (1.18.1)\n",
      "Requirement already satisfied: scikit-learn in c:\\users\\hksid\\anaconda3\\lib\\site-packages (from factor-analyzer) (0.22.1)\n",
      "Requirement already satisfied: pandas in c:\\users\\hksid\\anaconda3\\lib\\site-packages (from factor-analyzer) (1.0.1)\n",
      "Requirement already satisfied: joblib>=0.11 in c:\\users\\hksid\\anaconda3\\lib\\site-packages (from scikit-learn->factor-analyzer) (0.14.1)\n",
      "Requirement already satisfied: python-dateutil>=2.6.1 in c:\\users\\hksid\\anaconda3\\lib\\site-packages (from pandas->factor-analyzer) (2.8.1)\n",
      "Requirement already satisfied: pytz>=2017.2 in c:\\users\\hksid\\anaconda3\\lib\\site-packages (from pandas->factor-analyzer) (2019.3)\n",
      "Requirement already satisfied: six>=1.5 in c:\\users\\hksid\\anaconda3\\lib\\site-packages (from python-dateutil>=2.6.1->pandas->factor-analyzer) (1.14.0)\n",
      "Note: you may need to restart the kernel to use updated packages.\n"
     ]
    }
   ],
   "source": [
    "pip install factor-analyzer"
   ]
  },
  {
   "cell_type": "code",
   "execution_count": 7,
   "metadata": {},
   "outputs": [
    {
     "data": {
      "text/plain": [
       "(13369.738357195594, 0.0)"
      ]
     },
     "execution_count": 7,
     "metadata": {},
     "output_type": "execute_result"
    }
   ],
   "source": [
    "from factor_analyzer.factor_analyzer import calculate_bartlett_sphericity\n",
    "chi_square_value,p_value=calculate_bartlett_sphericity(X_train)\n",
    "chi_square_value, p_value"
   ]
  },
  {
   "cell_type": "markdown",
   "metadata": {},
   "source": [
    "p value is less than .05 thus, significant. Factor analysis can be done."
   ]
  },
  {
   "cell_type": "code",
   "execution_count": 8,
   "metadata": {},
   "outputs": [
    {
     "data": {
      "text/plain": [
       "array([3.20602397, 1.86362445, 1.5635095 , 1.1395055 , 1.07680377,\n",
       "       1.02286911, 1.00670006, 0.85982389, 0.80365121, 0.69078588,\n",
       "       0.59590333, 0.4044142 , 0.37061251, 0.22609223, 0.1696804 ])"
      ]
     },
     "execution_count": 8,
     "metadata": {},
     "output_type": "execute_result"
    }
   ],
   "source": [
    "from factor_analyzer import FactorAnalyzer\n",
    "fa = FactorAnalyzer()\n",
    "fa.fit(X_train)\n",
    "\n",
    "# Check Eigenvalues\n",
    "ev, v = fa.get_eigenvalues()\n",
    "ev"
   ]
  },
  {
   "cell_type": "markdown",
   "metadata": {},
   "source": [
    "7 values are greater than 1. So there are 7 major variables. But the last one is barely 1. So we take 6."
   ]
  },
  {
   "cell_type": "code",
   "execution_count": 9,
   "metadata": {},
   "outputs": [
    {
     "data": {
      "text/html": [
       "<div>\n",
       "<style scoped>\n",
       "    .dataframe tbody tr th:only-of-type {\n",
       "        vertical-align: middle;\n",
       "    }\n",
       "\n",
       "    .dataframe tbody tr th {\n",
       "        vertical-align: top;\n",
       "    }\n",
       "\n",
       "    .dataframe thead th {\n",
       "        text-align: right;\n",
       "    }\n",
       "</style>\n",
       "<table border=\"1\" class=\"dataframe\">\n",
       "  <thead>\n",
       "    <tr style=\"text-align: right;\">\n",
       "      <th></th>\n",
       "      <th>0</th>\n",
       "      <th>1</th>\n",
       "      <th>2</th>\n",
       "      <th>3</th>\n",
       "      <th>4</th>\n",
       "      <th>5</th>\n",
       "    </tr>\n",
       "  </thead>\n",
       "  <tbody>\n",
       "    <tr>\n",
       "      <th>0</th>\n",
       "      <td>0.080880</td>\n",
       "      <td>0.218419</td>\n",
       "      <td>0.034856</td>\n",
       "      <td>-0.071296</td>\n",
       "      <td>0.809778</td>\n",
       "      <td>-0.050989</td>\n",
       "    </tr>\n",
       "    <tr>\n",
       "      <th>1</th>\n",
       "      <td>0.085887</td>\n",
       "      <td>-0.159497</td>\n",
       "      <td>0.042808</td>\n",
       "      <td>0.966105</td>\n",
       "      <td>0.090996</td>\n",
       "      <td>0.145910</td>\n",
       "    </tr>\n",
       "    <tr>\n",
       "      <th>2</th>\n",
       "      <td>-0.080925</td>\n",
       "      <td>-0.005613</td>\n",
       "      <td>-0.026034</td>\n",
       "      <td>-0.135067</td>\n",
       "      <td>0.024375</td>\n",
       "      <td>0.006378</td>\n",
       "    </tr>\n",
       "    <tr>\n",
       "      <th>3</th>\n",
       "      <td>-0.100082</td>\n",
       "      <td>0.867914</td>\n",
       "      <td>-0.028014</td>\n",
       "      <td>-0.065026</td>\n",
       "      <td>0.014732</td>\n",
       "      <td>-0.036351</td>\n",
       "    </tr>\n",
       "    <tr>\n",
       "      <th>4</th>\n",
       "      <td>-0.024501</td>\n",
       "      <td>0.870953</td>\n",
       "      <td>-0.025094</td>\n",
       "      <td>-0.054829</td>\n",
       "      <td>0.149283</td>\n",
       "      <td>-0.063927</td>\n",
       "    </tr>\n",
       "    <tr>\n",
       "      <th>5</th>\n",
       "      <td>0.171967</td>\n",
       "      <td>-0.006693</td>\n",
       "      <td>0.029936</td>\n",
       "      <td>0.041766</td>\n",
       "      <td>-0.045753</td>\n",
       "      <td>0.477780</td>\n",
       "    </tr>\n",
       "    <tr>\n",
       "      <th>6</th>\n",
       "      <td>0.018788</td>\n",
       "      <td>-0.023782</td>\n",
       "      <td>0.006690</td>\n",
       "      <td>0.018767</td>\n",
       "      <td>0.015413</td>\n",
       "      <td>0.220488</td>\n",
       "    </tr>\n",
       "    <tr>\n",
       "      <th>7</th>\n",
       "      <td>0.671434</td>\n",
       "      <td>-0.014422</td>\n",
       "      <td>0.024799</td>\n",
       "      <td>0.215467</td>\n",
       "      <td>-0.024949</td>\n",
       "      <td>0.277095</td>\n",
       "    </tr>\n",
       "    <tr>\n",
       "      <th>8</th>\n",
       "      <td>0.055152</td>\n",
       "      <td>-0.017829</td>\n",
       "      <td>0.681042</td>\n",
       "      <td>0.061248</td>\n",
       "      <td>0.001900</td>\n",
       "      <td>0.035907</td>\n",
       "    </tr>\n",
       "    <tr>\n",
       "      <th>9</th>\n",
       "      <td>0.158226</td>\n",
       "      <td>-0.009437</td>\n",
       "      <td>0.028161</td>\n",
       "      <td>0.238212</td>\n",
       "      <td>-0.065281</td>\n",
       "      <td>0.031478</td>\n",
       "    </tr>\n",
       "    <tr>\n",
       "      <th>10</th>\n",
       "      <td>0.829698</td>\n",
       "      <td>-0.022435</td>\n",
       "      <td>0.058158</td>\n",
       "      <td>0.304299</td>\n",
       "      <td>-0.084751</td>\n",
       "      <td>0.202339</td>\n",
       "    </tr>\n",
       "    <tr>\n",
       "      <th>11</th>\n",
       "      <td>0.867826</td>\n",
       "      <td>-0.023290</td>\n",
       "      <td>-0.009002</td>\n",
       "      <td>0.113808</td>\n",
       "      <td>0.011269</td>\n",
       "      <td>0.087713</td>\n",
       "    </tr>\n",
       "    <tr>\n",
       "      <th>12</th>\n",
       "      <td>0.400218</td>\n",
       "      <td>-0.118348</td>\n",
       "      <td>0.066546</td>\n",
       "      <td>0.077049</td>\n",
       "      <td>0.096729</td>\n",
       "      <td>0.036220</td>\n",
       "    </tr>\n",
       "    <tr>\n",
       "      <th>13</th>\n",
       "      <td>0.225662</td>\n",
       "      <td>0.114228</td>\n",
       "      <td>0.073022</td>\n",
       "      <td>0.023487</td>\n",
       "      <td>-0.205202</td>\n",
       "      <td>-0.081704</td>\n",
       "    </tr>\n",
       "    <tr>\n",
       "      <th>14</th>\n",
       "      <td>0.063351</td>\n",
       "      <td>-0.025511</td>\n",
       "      <td>0.872505</td>\n",
       "      <td>0.070527</td>\n",
       "      <td>-0.010022</td>\n",
       "      <td>0.023306</td>\n",
       "    </tr>\n",
       "  </tbody>\n",
       "</table>\n",
       "</div>"
      ],
      "text/plain": [
       "           0         1         2         3         4         5\n",
       "0   0.080880  0.218419  0.034856 -0.071296  0.809778 -0.050989\n",
       "1   0.085887 -0.159497  0.042808  0.966105  0.090996  0.145910\n",
       "2  -0.080925 -0.005613 -0.026034 -0.135067  0.024375  0.006378\n",
       "3  -0.100082  0.867914 -0.028014 -0.065026  0.014732 -0.036351\n",
       "4  -0.024501  0.870953 -0.025094 -0.054829  0.149283 -0.063927\n",
       "5   0.171967 -0.006693  0.029936  0.041766 -0.045753  0.477780\n",
       "6   0.018788 -0.023782  0.006690  0.018767  0.015413  0.220488\n",
       "7   0.671434 -0.014422  0.024799  0.215467 -0.024949  0.277095\n",
       "8   0.055152 -0.017829  0.681042  0.061248  0.001900  0.035907\n",
       "9   0.158226 -0.009437  0.028161  0.238212 -0.065281  0.031478\n",
       "10  0.829698 -0.022435  0.058158  0.304299 -0.084751  0.202339\n",
       "11  0.867826 -0.023290 -0.009002  0.113808  0.011269  0.087713\n",
       "12  0.400218 -0.118348  0.066546  0.077049  0.096729  0.036220\n",
       "13  0.225662  0.114228  0.073022  0.023487 -0.205202 -0.081704\n",
       "14  0.063351 -0.025511  0.872505  0.070527 -0.010022  0.023306"
      ]
     },
     "execution_count": 9,
     "metadata": {},
     "output_type": "execute_result"
    }
   ],
   "source": [
    "fa = FactorAnalyzer()\n",
    "fa.set_params(n_factors=6, rotation=\"varimax\")\n",
    "fa.fit(X)\n",
    "df_loading=pd.DataFrame(fa.loadings_)\n",
    "df_loading.head(16)"
   ]
  },
  {
   "cell_type": "markdown",
   "metadata": {},
   "source": [
    "Now, we need to find what these factors interpret into. prevalentHyp, sysBP and diaBP are correlate thus making one single factor. sysBP is kept. currentSmoker, cigsPerDay is correleated but current smoker is not related to target value, so it must be dropped. Diabetes and glucose make one factor, we keep only glucose. Gender is a single factor. BMI is a single factor. Age is a single factor."
   ]
  },
  {
   "cell_type": "code",
   "execution_count": 10,
   "metadata": {},
   "outputs": [
    {
     "data": {
      "image/png": "[encoded data removed]",
      "text/plain": [
       "<Figure size 432x288 with 1 Axes>"
      ]
     },
     "metadata": {
      "needs_background": "light"
     },
     "output_type": "display_data"
    }
   ],
   "source": [
    "from sklearn.decomposition import PCA\n",
    "pca = PCA().fit(X_train)\n",
    "plt.plot(np.cumsum(pca.explained_variance_ratio_))\n",
    "plt.xlabel('number of components')\n",
    "plt.ylabel('cumulative explained variance');"
   ]
  },
  {
   "cell_type": "markdown",
   "metadata": {},
   "source": [
    "6 variables account for more than 85% of the variation. "
   ]
  },
  {
   "cell_type": "code",
   "execution_count": 11,
   "metadata": {},
   "outputs": [
    {
     "name": "stdout",
     "output_type": "stream",
     "text": [
      "[0.25403927 0.12792589 0.12203006 0.10701447 0.09753383 0.08958121\n",
      " 0.07910252 0.06081836 0.02234203 0.01654364 0.0095846  0.00868808\n",
      " 0.00257984 0.00161794 0.00059827]\n"
     ]
    }
   ],
   "source": [
    "print(pca.explained_variance_ratio_)"
   ]
  },
  {
   "cell_type": "markdown",
   "metadata": {},
   "source": [
    "First component account for 25% variation, the following two 12% each and so on. "
   ]
  },
  {
   "cell_type": "markdown",
   "metadata": {},
   "source": [
    "Feature selection is a tool for removing features with low variance. "
   ]
  },
  {
   "cell_type": "code",
   "execution_count": 12,
   "metadata": {},
   "outputs": [
    {
     "data": {
      "text/plain": [
       "(3390, 15)"
      ]
     },
     "execution_count": 12,
     "metadata": {},
     "output_type": "execute_result"
    }
   ],
   "source": [
    "from sklearn import feature_selection\n",
    "\n",
    "sel = feature_selection.VarianceThreshold()\n",
    "train_variance = sel.fit_transform(X_train)\n",
    "train_variance.shape"
   ]
  },
  {
   "cell_type": "markdown",
   "metadata": {},
   "source": [
    "No features to be removed."
   ]
  },
  {
   "cell_type": "markdown",
   "metadata": {},
   "source": [
    "Now as this is a classification problem. We can use many different methods and algorithm. \n",
    "We can take two approach. We can run regression and then remove the variables one by one. Also, we can remove the variables first, then run regression. \n"
   ]
  },
  {
   "cell_type": "markdown",
   "metadata": {},
   "source": [
    "First with no variable removed. "
   ]
  },
  {
   "cell_type": "code",
   "execution_count": 13,
   "metadata": {},
   "outputs": [],
   "source": [
    "accuracies_allvariable={}  #for model comparison"
   ]
  },
  {
   "cell_type": "code",
   "execution_count": 14,
   "metadata": {},
   "outputs": [
    {
     "name": "stderr",
     "output_type": "stream",
     "text": [
      "C:\\Users\\hksid\\anaconda3\\lib\\site-packages\\ipykernel_launcher.py:3: DataConversionWarning: A column-vector y was passed when a 1d array was expected. Please change the shape of y to (n_samples,), for example using ravel().\n",
      "  This is separate from the ipykernel package so we can avoid doing imports until\n"
     ]
    },
    {
     "name": "stdout",
     "output_type": "stream",
     "text": [
      "86.32075471698113\n"
     ]
    }
   ],
   "source": [
    "from sklearn.ensemble import RandomForestClassifier\n",
    "rf = RandomForestClassifier(n_estimators = 1000, random_state = 1)\n",
    "rf.fit(X_train, Y_train)\n",
    "\n",
    "acc = rf.score(X_test,Y_test)*100\n",
    "accuracies_allvariable['RandomForest']=acc\n",
    "print(acc)"
   ]
  },
  {
   "cell_type": "markdown",
   "metadata": {},
   "source": [
    "Logistic regression can be done with both scikilearn and statpimodel. First we do using skcikitlearn. for this we need to label encode th dataset."
   ]
  },
  {
   "cell_type": "code",
   "execution_count": 15,
   "metadata": {},
   "outputs": [
    {
     "name": "stdout",
     "output_type": "stream",
     "text": [
      "      TenYearCHD\n",
      "0              0\n",
      "1              0\n",
      "2              0\n",
      "3              1\n",
      "4              0\n",
      "...          ...\n",
      "4233           1\n",
      "4234           0\n",
      "4235           0\n",
      "4236           0\n",
      "4237           0\n",
      "\n",
      "[4238 rows x 1 columns]\n",
      "binary\n",
      "binary\n"
     ]
    },
    {
     "name": "stderr",
     "output_type": "stream",
     "text": [
      "C:\\Users\\hksid\\anaconda3\\lib\\site-packages\\sklearn\\preprocessing\\_label.py:251: DataConversionWarning: A column-vector y was passed when a 1d array was expected. Please change the shape of y to (n_samples, ), for example using ravel().\n",
      "  y = column_or_1d(y, warn=True)\n"
     ]
    }
   ],
   "source": [
    "from sklearn import preprocessing\n",
    "from sklearn import utils\n",
    "lab_enc = preprocessing.LabelEncoder()\n",
    "encoded = lab_enc.fit_transform(Y_train)\n",
    "\n",
    "print(Y)\n",
    "print(utils.multiclass.type_of_target(Y_train))\n",
    "print(utils.multiclass.type_of_target(Y_train.astype('int')))"
   ]
  },
  {
   "cell_type": "code",
   "execution_count": 16,
   "metadata": {},
   "outputs": [
    {
     "name": "stderr",
     "output_type": "stream",
     "text": [
      "C:\\Users\\hksid\\anaconda3\\lib\\site-packages\\sklearn\\utils\\validation.py:760: DataConversionWarning: A column-vector y was passed when a 1d array was expected. Please change the shape of y to (n_samples, ), for example using ravel().\n",
      "  y = column_or_1d(y, warn=True)\n"
     ]
    }
   ],
   "source": [
    "logistic_regression= LogisticRegression()\n",
    "logistic_regression.fit(X_train,Y_train)\n",
    "Y_pred=logistic_regression.predict(X_test)"
   ]
  },
  {
   "cell_type": "code",
   "execution_count": 17,
   "metadata": {},
   "outputs": [
    {
     "data": {
      "text/plain": [
       "86.32075471698113"
      ]
     },
     "execution_count": 17,
     "metadata": {},
     "output_type": "execute_result"
    }
   ],
   "source": [
    "metrics.accuracy_score(Y_test, Y_pred)\n",
    "accuracies_allvariable['Logistic Regression']=acc\n",
    "acc"
   ]
  },
  {
   "cell_type": "markdown",
   "metadata": {},
   "source": [
    "Now we need to find the coefficient of the variables in the regression model."
   ]
  },
  {
   "cell_type": "code",
   "execution_count": 18,
   "metadata": {},
   "outputs": [
    {
     "data": {
      "text/plain": [
       "array([[1.77714123, 1.62312058, 0.96038793, 1.0456248 , 1.22226233,\n",
       "        1.386042  , 2.31393501, 1.22228958, 1.40989165, 1.10552868,\n",
       "        1.38876251, 0.93285484, 1.05309732, 0.98525904, 1.1718476 ]])"
      ]
     },
     "execution_count": 18,
     "metadata": {},
     "output_type": "execute_result"
    }
   ],
   "source": [
    "import numpy as np\n",
    "np.exp(logistic_regression.coef_)"
   ]
  },
  {
   "cell_type": "code",
   "execution_count": 19,
   "metadata": {},
   "outputs": [
    {
     "name": "stderr",
     "output_type": "stream",
     "text": [
      "C:\\Users\\hksid\\anaconda3\\lib\\site-packages\\sklearn\\utils\\validation.py:760: DataConversionWarning: A column-vector y was passed when a 1d array was expected. Please change the shape of y to (n_samples, ), for example using ravel().\n",
      "  y = column_or_1d(y, warn=True)\n"
     ]
    },
    {
     "data": {
      "text/plain": [
       "86.20283018867924"
      ]
     },
     "execution_count": 19,
     "metadata": {},
     "output_type": "execute_result"
    }
   ],
   "source": [
    "from sklearn.svm import SVC\n",
    "svm = SVC(random_state = 1)\n",
    "svm.fit(X_train, Y_train)\n",
    "\n",
    "acc= svm.score(X_test,Y_test)*100\n",
    "\n",
    "accuracies_allvariable['SVC']=acc\n",
    "acc"
   ]
  },
  {
   "cell_type": "code",
   "execution_count": 20,
   "metadata": {},
   "outputs": [
    {
     "name": "stderr",
     "output_type": "stream",
     "text": [
      "C:\\Users\\hksid\\anaconda3\\lib\\site-packages\\ipykernel_launcher.py:3: DataConversionWarning: A column-vector y was passed when a 1d array was expected. Please change the shape of y to (n_samples, ), for example using ravel().\n",
      "  This is separate from the ipykernel package so we can avoid doing imports until\n"
     ]
    },
    {
     "data": {
      "text/plain": [
       "85.49528301886792"
      ]
     },
     "execution_count": 20,
     "metadata": {},
     "output_type": "execute_result"
    }
   ],
   "source": [
    "from sklearn.neighbors import KNeighborsClassifier\n",
    "knn = KNeighborsClassifier(n_neighbors = 4)  # n_neighbors means k\n",
    "knn.fit(X_train, Y_train)\n",
    "prediction = knn.predict(X_test)\n",
    "\n",
    "acc= knn.score(X_test, Y_test)*100\n",
    "accuracies_allvariable['KNN']=acc\n",
    "acc"
   ]
  },
  {
   "cell_type": "code",
   "execution_count": 21,
   "metadata": {},
   "outputs": [
    {
     "name": "stderr",
     "output_type": "stream",
     "text": [
      "C:\\Users\\hksid\\anaconda3\\lib\\site-packages\\sklearn\\naive_bayes.py:206: DataConversionWarning: A column-vector y was passed when a 1d array was expected. Please change the shape of y to (n_samples, ), for example using ravel().\n",
      "  y = column_or_1d(y, warn=True)\n"
     ]
    },
    {
     "data": {
      "text/plain": [
       "82.31132075471697"
      ]
     },
     "execution_count": 21,
     "metadata": {},
     "output_type": "execute_result"
    }
   ],
   "source": [
    "from sklearn.naive_bayes import GaussianNB\n",
    "nb = GaussianNB()\n",
    "nb.fit(X_train, Y_train)\n",
    "\n",
    "acc= nb.score(X_test,Y_test)*100\n",
    "accuracies_allvariable['Naive_Bayes']=acc\n",
    "acc"
   ]
  },
  {
   "cell_type": "code",
   "execution_count": 22,
   "metadata": {},
   "outputs": [
    {
     "data": {
      "text/plain": [
       "77.35849056603774"
      ]
     },
     "execution_count": 22,
     "metadata": {},
     "output_type": "execute_result"
    }
   ],
   "source": [
    "from sklearn.tree import DecisionTreeClassifier\n",
    "dtc = DecisionTreeClassifier()\n",
    "dtc.fit(X_train, Y_train)\n",
    "\n",
    "acc = dtc.score(X_test,Y_test)*100\n",
    "accuracies_allvariable['Decision Tree'] = acc\n",
    "acc"
   ]
  },
  {
   "cell_type": "code",
   "execution_count": 23,
   "metadata": {},
   "outputs": [
    {
     "data": {
      "image/png": "[encoded data removed]",
      "text/plain": [
       "<Figure size 1152x720 with 1 Axes>"
      ]
     },
     "metadata": {},
     "output_type": "display_data"
    }
   ],
   "source": [
    "colors = [\"purple\", \"green\", \"orange\", \"magenta\",\"#CFC60E\",\"#0FBBAE\"]\n",
    "\n",
    "sns.set_style(\"whitegrid\")\n",
    "plt.figure(figsize=(16,10))\n",
    "plt.yticks(np.arange(0,100,10))\n",
    "plt.ylabel(\"Accuracy %\")\n",
    "plt.xlabel(\"Algorithms\")\n",
    "sns.barplot(x=list(accuracies_allvariable.keys()), y=list(accuracies_allvariable.values()), palette=colors)\n",
    "plt.show()"
   ]
  },
  {
   "cell_type": "markdown",
   "metadata": {},
   "source": [
    "Now we should try to reduce the number of variables. First we would do it by backward elimination. By removing the value with highest p value. "
   ]
  },
  {
   "cell_type": "code",
   "execution_count": 24,
   "metadata": {},
   "outputs": [],
   "source": [
    "X1_train_copy=X1_train.copy()\n"
   ]
  },
  {
   "cell_type": "markdown",
   "metadata": {},
   "source": [
    "Keeping another copy for future"
   ]
  },
  {
   "cell_type": "code",
   "execution_count": 25,
   "metadata": {},
   "outputs": [],
   "source": [
    "X2_train_copy=X1_train.copy()"
   ]
  },
  {
   "cell_type": "code",
   "execution_count": 26,
   "metadata": {},
   "outputs": [
    {
     "name": "stdout",
     "output_type": "stream",
     "text": [
      "Optimization terminated successfully.\n",
      "         Current function value: 0.403547\n",
      "         Iterations 6\n"
     ]
    },
    {
     "data": {
      "text/html": [
       "<table class=\"simpletable\">\n",
       "<caption>Logit Regression Results</caption>\n",
       "<tr>\n",
       "  <th>Dep. Variable:</th>      <td>TenYearCHD</td>    <th>  No. Observations:  </th>  <td>  3390</td>  \n",
       "</tr>\n",
       "<tr>\n",
       "  <th>Model:</th>                 <td>Logit</td>      <th>  Df Residuals:      </th>  <td>  3375</td>  \n",
       "</tr>\n",
       "<tr>\n",
       "  <th>Method:</th>                 <td>MLE</td>       <th>  Df Model:          </th>  <td>    14</td>  \n",
       "</tr>\n",
       "<tr>\n",
       "  <th>Date:</th>            <td>Sat, 18 Jul 2020</td> <th>  Pseudo R-squ.:     </th>  <td>0.06814</td> \n",
       "</tr>\n",
       "<tr>\n",
       "  <th>Time:</th>                <td>22:53:20</td>     <th>  Log-Likelihood:    </th> <td> -1368.0</td> \n",
       "</tr>\n",
       "<tr>\n",
       "  <th>converged:</th>             <td>True</td>       <th>  LL-Null:           </th> <td> -1468.1</td> \n",
       "</tr>\n",
       "<tr>\n",
       "  <th>Covariance Type:</th>     <td>nonrobust</td>    <th>  LLR p-value:       </th> <td>5.308e-35</td>\n",
       "</tr>\n",
       "</table>\n",
       "<table class=\"simpletable\">\n",
       "<tr>\n",
       "         <td></td>            <th>coef</th>     <th>std err</th>      <th>z</th>      <th>P>|z|</th>  <th>[0.025</th>    <th>0.975]</th>  \n",
       "</tr>\n",
       "<tr>\n",
       "  <th>gender</th>          <td>    0.4664</td> <td>    0.107</td> <td>    4.371</td> <td> 0.000</td> <td>    0.257</td> <td>    0.676</td>\n",
       "</tr>\n",
       "<tr>\n",
       "  <th>age</th>             <td>    0.0244</td> <td>    0.006</td> <td>    4.007</td> <td> 0.000</td> <td>    0.012</td> <td>    0.036</td>\n",
       "</tr>\n",
       "<tr>\n",
       "  <th>education</th>       <td>   -0.1553</td> <td>    0.045</td> <td>   -3.433</td> <td> 0.001</td> <td>   -0.244</td> <td>   -0.067</td>\n",
       "</tr>\n",
       "<tr>\n",
       "  <th>currentSmoker</th>   <td>   -0.2084</td> <td>    0.154</td> <td>   -1.355</td> <td> 0.175</td> <td>   -0.510</td> <td>    0.093</td>\n",
       "</tr>\n",
       "<tr>\n",
       "  <th>cigsPerDay</th>      <td>    0.0179</td> <td>    0.006</td> <td>    2.874</td> <td> 0.004</td> <td>    0.006</td> <td>    0.030</td>\n",
       "</tr>\n",
       "<tr>\n",
       "  <th>BPMeds</th>          <td>    0.5265</td> <td>    0.240</td> <td>    2.197</td> <td> 0.028</td> <td>    0.057</td> <td>    0.996</td>\n",
       "</tr>\n",
       "<tr>\n",
       "  <th>prevalentStroke</th> <td>    0.8468</td> <td>    0.477</td> <td>    1.775</td> <td> 0.076</td> <td>   -0.088</td> <td>    1.782</td>\n",
       "</tr>\n",
       "<tr>\n",
       "  <th>prevalentHyp</th>    <td>    0.8933</td> <td>    0.128</td> <td>    6.960</td> <td> 0.000</td> <td>    0.642</td> <td>    1.145</td>\n",
       "</tr>\n",
       "<tr>\n",
       "  <th>diabetes</th>        <td>    0.9374</td> <td>    0.298</td> <td>    3.149</td> <td> 0.002</td> <td>    0.354</td> <td>    1.521</td>\n",
       "</tr>\n",
       "<tr>\n",
       "  <th>totChol</th>         <td>   -0.0008</td> <td>    0.001</td> <td>   -0.736</td> <td> 0.462</td> <td>   -0.003</td> <td>    0.001</td>\n",
       "</tr>\n",
       "<tr>\n",
       "  <th>sysBP</th>           <td>    0.0123</td> <td>    0.004</td> <td>    3.074</td> <td> 0.002</td> <td>    0.004</td> <td>    0.020</td>\n",
       "</tr>\n",
       "<tr>\n",
       "  <th>diaBP</th>           <td>   -0.0284</td> <td>    0.006</td> <td>   -4.391</td> <td> 0.000</td> <td>   -0.041</td> <td>   -0.016</td>\n",
       "</tr>\n",
       "<tr>\n",
       "  <th>BMI</th>             <td>   -0.0409</td> <td>    0.013</td> <td>   -3.254</td> <td> 0.001</td> <td>   -0.066</td> <td>   -0.016</td>\n",
       "</tr>\n",
       "<tr>\n",
       "  <th>heartRate</th>       <td>   -0.0199</td> <td>    0.004</td> <td>   -4.952</td> <td> 0.000</td> <td>   -0.028</td> <td>   -0.012</td>\n",
       "</tr>\n",
       "<tr>\n",
       "  <th>glucose</th>         <td>    0.0023</td> <td>    0.002</td> <td>    1.072</td> <td> 0.284</td> <td>   -0.002</td> <td>    0.006</td>\n",
       "</tr>\n",
       "</table>"
      ],
      "text/plain": [
       "<class 'statsmodels.iolib.summary.Summary'>\n",
       "\"\"\"\n",
       "                           Logit Regression Results                           \n",
       "==============================================================================\n",
       "Dep. Variable:             TenYearCHD   No. Observations:                 3390\n",
       "Model:                          Logit   Df Residuals:                     3375\n",
       "Method:                           MLE   Df Model:                           14\n",
       "Date:                Sat, 18 Jul 2020   Pseudo R-squ.:                 0.06814\n",
       "Time:                        22:53:20   Log-Likelihood:                -1368.0\n",
       "converged:                       True   LL-Null:                       -1468.1\n",
       "Covariance Type:            nonrobust   LLR p-value:                 5.308e-35\n",
       "===================================================================================\n",
       "                      coef    std err          z      P>|z|      [0.025      0.975]\n",
       "-----------------------------------------------------------------------------------\n",
       "gender              0.4664      0.107      4.371      0.000       0.257       0.676\n",
       "age                 0.0244      0.006      4.007      0.000       0.012       0.036\n",
       "education          -0.1553      0.045     -3.433      0.001      -0.244      -0.067\n",
       "currentSmoker      -0.2084      0.154     -1.355      0.175      -0.510       0.093\n",
       "cigsPerDay          0.0179      0.006      2.874      0.004       0.006       0.030\n",
       "BPMeds              0.5265      0.240      2.197      0.028       0.057       0.996\n",
       "prevalentStroke     0.8468      0.477      1.775      0.076      -0.088       1.782\n",
       "prevalentHyp        0.8933      0.128      6.960      0.000       0.642       1.145\n",
       "diabetes            0.9374      0.298      3.149      0.002       0.354       1.521\n",
       "totChol            -0.0008      0.001     -0.736      0.462      -0.003       0.001\n",
       "sysBP               0.0123      0.004      3.074      0.002       0.004       0.020\n",
       "diaBP              -0.0284      0.006     -4.391      0.000      -0.041      -0.016\n",
       "BMI                -0.0409      0.013     -3.254      0.001      -0.066      -0.016\n",
       "heartRate          -0.0199      0.004     -4.952      0.000      -0.028      -0.012\n",
       "glucose             0.0023      0.002      1.072      0.284      -0.002       0.006\n",
       "===================================================================================\n",
       "\"\"\""
      ]
     },
     "execution_count": 26,
     "metadata": {},
     "output_type": "execute_result"
    }
   ],
   "source": [
    "from statsmodels.discrete.discrete_model import Logit\n",
    "x=X1_train_copy\n",
    "\n",
    "y=Y1_train.TenYearCHD\n",
    "model=Logit(y,x)\n",
    "result=model.fit()\n",
    "result.summary()"
   ]
  },
  {
   "cell_type": "code",
   "execution_count": 27,
   "metadata": {},
   "outputs": [],
   "source": [
    "X1_train_copy.drop(['totChol'],axis=1,inplace=True)\n"
   ]
  },
  {
   "cell_type": "code",
   "execution_count": 28,
   "metadata": {},
   "outputs": [
    {
     "name": "stdout",
     "output_type": "stream",
     "text": [
      "Optimization terminated successfully.\n",
      "         Current function value: 0.403628\n",
      "         Iterations 6\n"
     ]
    },
    {
     "data": {
      "text/html": [
       "<table class=\"simpletable\">\n",
       "<caption>Logit Regression Results</caption>\n",
       "<tr>\n",
       "  <th>Dep. Variable:</th>      <td>TenYearCHD</td>    <th>  No. Observations:  </th>  <td>  3390</td>  \n",
       "</tr>\n",
       "<tr>\n",
       "  <th>Model:</th>                 <td>Logit</td>      <th>  Df Residuals:      </th>  <td>  3376</td>  \n",
       "</tr>\n",
       "<tr>\n",
       "  <th>Method:</th>                 <td>MLE</td>       <th>  Df Model:          </th>  <td>    13</td>  \n",
       "</tr>\n",
       "<tr>\n",
       "  <th>Date:</th>            <td>Sat, 18 Jul 2020</td> <th>  Pseudo R-squ.:     </th>  <td>0.06796</td> \n",
       "</tr>\n",
       "<tr>\n",
       "  <th>Time:</th>                <td>22:53:20</td>     <th>  Log-Likelihood:    </th> <td> -1368.3</td> \n",
       "</tr>\n",
       "<tr>\n",
       "  <th>converged:</th>             <td>True</td>       <th>  LL-Null:           </th> <td> -1468.1</td> \n",
       "</tr>\n",
       "<tr>\n",
       "  <th>Covariance Type:</th>     <td>nonrobust</td>    <th>  LLR p-value:       </th> <td>1.707e-35</td>\n",
       "</tr>\n",
       "</table>\n",
       "<table class=\"simpletable\">\n",
       "<tr>\n",
       "         <td></td>            <th>coef</th>     <th>std err</th>      <th>z</th>      <th>P>|z|</th>  <th>[0.025</th>    <th>0.975]</th>  \n",
       "</tr>\n",
       "<tr>\n",
       "  <th>gender</th>          <td>    0.4736</td> <td>    0.106</td> <td>    4.455</td> <td> 0.000</td> <td>    0.265</td> <td>    0.682</td>\n",
       "</tr>\n",
       "<tr>\n",
       "  <th>age</th>             <td>    0.0232</td> <td>    0.006</td> <td>    3.952</td> <td> 0.000</td> <td>    0.012</td> <td>    0.035</td>\n",
       "</tr>\n",
       "<tr>\n",
       "  <th>education</th>       <td>   -0.1587</td> <td>    0.045</td> <td>   -3.523</td> <td> 0.000</td> <td>   -0.247</td> <td>   -0.070</td>\n",
       "</tr>\n",
       "<tr>\n",
       "  <th>currentSmoker</th>   <td>   -0.2108</td> <td>    0.154</td> <td>   -1.371</td> <td> 0.170</td> <td>   -0.512</td> <td>    0.091</td>\n",
       "</tr>\n",
       "<tr>\n",
       "  <th>cigsPerDay</th>      <td>    0.0178</td> <td>    0.006</td> <td>    2.858</td> <td> 0.004</td> <td>    0.006</td> <td>    0.030</td>\n",
       "</tr>\n",
       "<tr>\n",
       "  <th>BPMeds</th>          <td>    0.5264</td> <td>    0.240</td> <td>    2.197</td> <td> 0.028</td> <td>    0.057</td> <td>    0.996</td>\n",
       "</tr>\n",
       "<tr>\n",
       "  <th>prevalentStroke</th> <td>    0.8544</td> <td>    0.477</td> <td>    1.792</td> <td> 0.073</td> <td>   -0.080</td> <td>    1.789</td>\n",
       "</tr>\n",
       "<tr>\n",
       "  <th>prevalentHyp</th>    <td>    0.9032</td> <td>    0.128</td> <td>    7.076</td> <td> 0.000</td> <td>    0.653</td> <td>    1.153</td>\n",
       "</tr>\n",
       "<tr>\n",
       "  <th>diabetes</th>        <td>    0.9432</td> <td>    0.298</td> <td>    3.169</td> <td> 0.002</td> <td>    0.360</td> <td>    1.526</td>\n",
       "</tr>\n",
       "<tr>\n",
       "  <th>sysBP</th>           <td>    0.0122</td> <td>    0.004</td> <td>    3.041</td> <td> 0.002</td> <td>    0.004</td> <td>    0.020</td>\n",
       "</tr>\n",
       "<tr>\n",
       "  <th>diaBP</th>           <td>   -0.0288</td> <td>    0.006</td> <td>   -4.477</td> <td> 0.000</td> <td>   -0.041</td> <td>   -0.016</td>\n",
       "</tr>\n",
       "<tr>\n",
       "  <th>BMI</th>             <td>   -0.0422</td> <td>    0.012</td> <td>   -3.386</td> <td> 0.001</td> <td>   -0.067</td> <td>   -0.018</td>\n",
       "</tr>\n",
       "<tr>\n",
       "  <th>heartRate</th>       <td>   -0.0204</td> <td>    0.004</td> <td>   -5.126</td> <td> 0.000</td> <td>   -0.028</td> <td>   -0.013</td>\n",
       "</tr>\n",
       "<tr>\n",
       "  <th>glucose</th>         <td>    0.0022</td> <td>    0.002</td> <td>    1.040</td> <td> 0.298</td> <td>   -0.002</td> <td>    0.006</td>\n",
       "</tr>\n",
       "</table>"
      ],
      "text/plain": [
       "<class 'statsmodels.iolib.summary.Summary'>\n",
       "\"\"\"\n",
       "                           Logit Regression Results                           \n",
       "==============================================================================\n",
       "Dep. Variable:             TenYearCHD   No. Observations:                 3390\n",
       "Model:                          Logit   Df Residuals:                     3376\n",
       "Method:                           MLE   Df Model:                           13\n",
       "Date:                Sat, 18 Jul 2020   Pseudo R-squ.:                 0.06796\n",
       "Time:                        22:53:20   Log-Likelihood:                -1368.3\n",
       "converged:                       True   LL-Null:                       -1468.1\n",
       "Covariance Type:            nonrobust   LLR p-value:                 1.707e-35\n",
       "===================================================================================\n",
       "                      coef    std err          z      P>|z|      [0.025      0.975]\n",
       "-----------------------------------------------------------------------------------\n",
       "gender              0.4736      0.106      4.455      0.000       0.265       0.682\n",
       "age                 0.0232      0.006      3.952      0.000       0.012       0.035\n",
       "education          -0.1587      0.045     -3.523      0.000      -0.247      -0.070\n",
       "currentSmoker      -0.2108      0.154     -1.371      0.170      -0.512       0.091\n",
       "cigsPerDay          0.0178      0.006      2.858      0.004       0.006       0.030\n",
       "BPMeds              0.5264      0.240      2.197      0.028       0.057       0.996\n",
       "prevalentStroke     0.8544      0.477      1.792      0.073      -0.080       1.789\n",
       "prevalentHyp        0.9032      0.128      7.076      0.000       0.653       1.153\n",
       "diabetes            0.9432      0.298      3.169      0.002       0.360       1.526\n",
       "sysBP               0.0122      0.004      3.041      0.002       0.004       0.020\n",
       "diaBP              -0.0288      0.006     -4.477      0.000      -0.041      -0.016\n",
       "BMI                -0.0422      0.012     -3.386      0.001      -0.067      -0.018\n",
       "heartRate          -0.0204      0.004     -5.126      0.000      -0.028      -0.013\n",
       "glucose             0.0022      0.002      1.040      0.298      -0.002       0.006\n",
       "===================================================================================\n",
       "\"\"\""
      ]
     },
     "execution_count": 28,
     "metadata": {},
     "output_type": "execute_result"
    }
   ],
   "source": [
    "x=X1_train_copy\n",
    "\n",
    "y=Y1_train.TenYearCHD\n",
    "model=Logit(y,x)\n",
    "result=model.fit()\n",
    "result.summary()"
   ]
  },
  {
   "cell_type": "code",
   "execution_count": 29,
   "metadata": {},
   "outputs": [
    {
     "name": "stdout",
     "output_type": "stream",
     "text": [
      "Optimization terminated successfully.\n",
      "         Current function value: 0.403787\n",
      "         Iterations 6\n"
     ]
    },
    {
     "data": {
      "text/html": [
       "<table class=\"simpletable\">\n",
       "<caption>Logit Regression Results</caption>\n",
       "<tr>\n",
       "  <th>Dep. Variable:</th>      <td>TenYearCHD</td>    <th>  No. Observations:  </th>  <td>  3390</td>  \n",
       "</tr>\n",
       "<tr>\n",
       "  <th>Model:</th>                 <td>Logit</td>      <th>  Df Residuals:      </th>  <td>  3377</td>  \n",
       "</tr>\n",
       "<tr>\n",
       "  <th>Method:</th>                 <td>MLE</td>       <th>  Df Model:          </th>  <td>    12</td>  \n",
       "</tr>\n",
       "<tr>\n",
       "  <th>Date:</th>            <td>Sat, 18 Jul 2020</td> <th>  Pseudo R-squ.:     </th>  <td>0.06759</td> \n",
       "</tr>\n",
       "<tr>\n",
       "  <th>Time:</th>                <td>22:53:21</td>     <th>  Log-Likelihood:    </th> <td> -1368.8</td> \n",
       "</tr>\n",
       "<tr>\n",
       "  <th>converged:</th>             <td>True</td>       <th>  LL-Null:           </th> <td> -1468.1</td> \n",
       "</tr>\n",
       "<tr>\n",
       "  <th>Covariance Type:</th>     <td>nonrobust</td>    <th>  LLR p-value:       </th> <td>6.827e-36</td>\n",
       "</tr>\n",
       "</table>\n",
       "<table class=\"simpletable\">\n",
       "<tr>\n",
       "         <td></td>            <th>coef</th>     <th>std err</th>      <th>z</th>      <th>P>|z|</th>  <th>[0.025</th>    <th>0.975]</th>  \n",
       "</tr>\n",
       "<tr>\n",
       "  <th>gender</th>          <td>    0.4779</td> <td>    0.106</td> <td>    4.501</td> <td> 0.000</td> <td>    0.270</td> <td>    0.686</td>\n",
       "</tr>\n",
       "<tr>\n",
       "  <th>age</th>             <td>    0.0239</td> <td>    0.006</td> <td>    4.104</td> <td> 0.000</td> <td>    0.013</td> <td>    0.035</td>\n",
       "</tr>\n",
       "<tr>\n",
       "  <th>education</th>       <td>   -0.1553</td> <td>    0.045</td> <td>   -3.461</td> <td> 0.001</td> <td>   -0.243</td> <td>   -0.067</td>\n",
       "</tr>\n",
       "<tr>\n",
       "  <th>currentSmoker</th>   <td>   -0.2074</td> <td>    0.154</td> <td>   -1.349</td> <td> 0.177</td> <td>   -0.509</td> <td>    0.094</td>\n",
       "</tr>\n",
       "<tr>\n",
       "  <th>cigsPerDay</th>      <td>    0.0176</td> <td>    0.006</td> <td>    2.830</td> <td> 0.005</td> <td>    0.005</td> <td>    0.030</td>\n",
       "</tr>\n",
       "<tr>\n",
       "  <th>BPMeds</th>          <td>    0.5295</td> <td>    0.239</td> <td>    2.214</td> <td> 0.027</td> <td>    0.061</td> <td>    0.998</td>\n",
       "</tr>\n",
       "<tr>\n",
       "  <th>prevalentStroke</th> <td>    0.8513</td> <td>    0.478</td> <td>    1.781</td> <td> 0.075</td> <td>   -0.085</td> <td>    1.788</td>\n",
       "</tr>\n",
       "<tr>\n",
       "  <th>prevalentHyp</th>    <td>    0.8834</td> <td>    0.126</td> <td>    7.003</td> <td> 0.000</td> <td>    0.636</td> <td>    1.131</td>\n",
       "</tr>\n",
       "<tr>\n",
       "  <th>diabetes</th>        <td>    1.1320</td> <td>    0.234</td> <td>    4.828</td> <td> 0.000</td> <td>    0.672</td> <td>    1.592</td>\n",
       "</tr>\n",
       "<tr>\n",
       "  <th>sysBP</th>           <td>    0.0125</td> <td>    0.004</td> <td>    3.128</td> <td> 0.002</td> <td>    0.005</td> <td>    0.020</td>\n",
       "</tr>\n",
       "<tr>\n",
       "  <th>diaBP</th>           <td>   -0.0286</td> <td>    0.006</td> <td>   -4.451</td> <td> 0.000</td> <td>   -0.041</td> <td>   -0.016</td>\n",
       "</tr>\n",
       "<tr>\n",
       "  <th>BMI</th>             <td>   -0.0412</td> <td>    0.012</td> <td>   -3.320</td> <td> 0.001</td> <td>   -0.066</td> <td>   -0.017</td>\n",
       "</tr>\n",
       "<tr>\n",
       "  <th>heartRate</th>       <td>   -0.0197</td> <td>    0.004</td> <td>   -5.034</td> <td> 0.000</td> <td>   -0.027</td> <td>   -0.012</td>\n",
       "</tr>\n",
       "</table>"
      ],
      "text/plain": [
       "<class 'statsmodels.iolib.summary.Summary'>\n",
       "\"\"\"\n",
       "                           Logit Regression Results                           \n",
       "==============================================================================\n",
       "Dep. Variable:             TenYearCHD   No. Observations:                 3390\n",
       "Model:                          Logit   Df Residuals:                     3377\n",
       "Method:                           MLE   Df Model:                           12\n",
       "Date:                Sat, 18 Jul 2020   Pseudo R-squ.:                 0.06759\n",
       "Time:                        22:53:21   Log-Likelihood:                -1368.8\n",
       "converged:                       True   LL-Null:                       -1468.1\n",
       "Covariance Type:            nonrobust   LLR p-value:                 6.827e-36\n",
       "===================================================================================\n",
       "                      coef    std err          z      P>|z|      [0.025      0.975]\n",
       "-----------------------------------------------------------------------------------\n",
       "gender              0.4779      0.106      4.501      0.000       0.270       0.686\n",
       "age                 0.0239      0.006      4.104      0.000       0.013       0.035\n",
       "education          -0.1553      0.045     -3.461      0.001      -0.243      -0.067\n",
       "currentSmoker      -0.2074      0.154     -1.349      0.177      -0.509       0.094\n",
       "cigsPerDay          0.0176      0.006      2.830      0.005       0.005       0.030\n",
       "BPMeds              0.5295      0.239      2.214      0.027       0.061       0.998\n",
       "prevalentStroke     0.8513      0.478      1.781      0.075      -0.085       1.788\n",
       "prevalentHyp        0.8834      0.126      7.003      0.000       0.636       1.131\n",
       "diabetes            1.1320      0.234      4.828      0.000       0.672       1.592\n",
       "sysBP               0.0125      0.004      3.128      0.002       0.005       0.020\n",
       "diaBP              -0.0286      0.006     -4.451      0.000      -0.041      -0.016\n",
       "BMI                -0.0412      0.012     -3.320      0.001      -0.066      -0.017\n",
       "heartRate          -0.0197      0.004     -5.034      0.000      -0.027      -0.012\n",
       "===================================================================================\n",
       "\"\"\""
      ]
     },
     "execution_count": 29,
     "metadata": {},
     "output_type": "execute_result"
    }
   ],
   "source": [
    "X1_train_copy.drop(['glucose'],axis=1,inplace=True)\n",
    "x=X1_train_copy\n",
    "\n",
    "y=Y1_train.TenYearCHD\n",
    "model=Logit(y,x)\n",
    "result=model.fit()\n",
    "result.summary()"
   ]
  },
  {
   "cell_type": "code",
   "execution_count": 30,
   "metadata": {},
   "outputs": [
    {
     "name": "stdout",
     "output_type": "stream",
     "text": [
      "Optimization terminated successfully.\n",
      "         Current function value: 0.404059\n",
      "         Iterations 6\n"
     ]
    },
    {
     "data": {
      "text/html": [
       "<table class=\"simpletable\">\n",
       "<caption>Logit Regression Results</caption>\n",
       "<tr>\n",
       "  <th>Dep. Variable:</th>      <td>TenYearCHD</td>    <th>  No. Observations:  </th>  <td>  3390</td>  \n",
       "</tr>\n",
       "<tr>\n",
       "  <th>Model:</th>                 <td>Logit</td>      <th>  Df Residuals:      </th>  <td>  3378</td>  \n",
       "</tr>\n",
       "<tr>\n",
       "  <th>Method:</th>                 <td>MLE</td>       <th>  Df Model:          </th>  <td>    11</td>  \n",
       "</tr>\n",
       "<tr>\n",
       "  <th>Date:</th>            <td>Sat, 18 Jul 2020</td> <th>  Pseudo R-squ.:     </th>  <td>0.06696</td> \n",
       "</tr>\n",
       "<tr>\n",
       "  <th>Time:</th>                <td>22:53:21</td>     <th>  Log-Likelihood:    </th> <td> -1369.8</td> \n",
       "</tr>\n",
       "<tr>\n",
       "  <th>converged:</th>             <td>True</td>       <th>  LL-Null:           </th> <td> -1468.1</td> \n",
       "</tr>\n",
       "<tr>\n",
       "  <th>Covariance Type:</th>     <td>nonrobust</td>    <th>  LLR p-value:       </th> <td>3.761e-36</td>\n",
       "</tr>\n",
       "</table>\n",
       "<table class=\"simpletable\">\n",
       "<tr>\n",
       "         <td></td>            <th>coef</th>     <th>std err</th>      <th>z</th>      <th>P>|z|</th>  <th>[0.025</th>    <th>0.975]</th>  \n",
       "</tr>\n",
       "<tr>\n",
       "  <th>gender</th>          <td>    0.4794</td> <td>    0.106</td> <td>    4.521</td> <td> 0.000</td> <td>    0.272</td> <td>    0.687</td>\n",
       "</tr>\n",
       "<tr>\n",
       "  <th>age</th>             <td>    0.0241</td> <td>    0.006</td> <td>    4.124</td> <td> 0.000</td> <td>    0.013</td> <td>    0.035</td>\n",
       "</tr>\n",
       "<tr>\n",
       "  <th>education</th>       <td>   -0.1564</td> <td>    0.045</td> <td>   -3.485</td> <td> 0.000</td> <td>   -0.244</td> <td>   -0.068</td>\n",
       "</tr>\n",
       "<tr>\n",
       "  <th>cigsPerDay</th>      <td>    0.0114</td> <td>    0.004</td> <td>    2.687</td> <td> 0.007</td> <td>    0.003</td> <td>    0.020</td>\n",
       "</tr>\n",
       "<tr>\n",
       "  <th>BPMeds</th>          <td>    0.5288</td> <td>    0.239</td> <td>    2.211</td> <td> 0.027</td> <td>    0.060</td> <td>    0.998</td>\n",
       "</tr>\n",
       "<tr>\n",
       "  <th>prevalentStroke</th> <td>    0.8527</td> <td>    0.478</td> <td>    1.784</td> <td> 0.074</td> <td>   -0.084</td> <td>    1.789</td>\n",
       "</tr>\n",
       "<tr>\n",
       "  <th>prevalentHyp</th>    <td>    0.8986</td> <td>    0.126</td> <td>    7.147</td> <td> 0.000</td> <td>    0.652</td> <td>    1.145</td>\n",
       "</tr>\n",
       "<tr>\n",
       "  <th>diabetes</th>        <td>    1.1366</td> <td>    0.234</td> <td>    4.851</td> <td> 0.000</td> <td>    0.677</td> <td>    1.596</td>\n",
       "</tr>\n",
       "<tr>\n",
       "  <th>sysBP</th>           <td>    0.0123</td> <td>    0.004</td> <td>    3.092</td> <td> 0.002</td> <td>    0.005</td> <td>    0.020</td>\n",
       "</tr>\n",
       "<tr>\n",
       "  <th>diaBP</th>           <td>   -0.0288</td> <td>    0.006</td> <td>   -4.486</td> <td> 0.000</td> <td>   -0.041</td> <td>   -0.016</td>\n",
       "</tr>\n",
       "<tr>\n",
       "  <th>BMI</th>             <td>   -0.0403</td> <td>    0.012</td> <td>   -3.253</td> <td> 0.001</td> <td>   -0.065</td> <td>   -0.016</td>\n",
       "</tr>\n",
       "<tr>\n",
       "  <th>heartRate</th>       <td>   -0.0203</td> <td>    0.004</td> <td>   -5.203</td> <td> 0.000</td> <td>   -0.028</td> <td>   -0.013</td>\n",
       "</tr>\n",
       "</table>"
      ],
      "text/plain": [
       "<class 'statsmodels.iolib.summary.Summary'>\n",
       "\"\"\"\n",
       "                           Logit Regression Results                           \n",
       "==============================================================================\n",
       "Dep. Variable:             TenYearCHD   No. Observations:                 3390\n",
       "Model:                          Logit   Df Residuals:                     3378\n",
       "Method:                           MLE   Df Model:                           11\n",
       "Date:                Sat, 18 Jul 2020   Pseudo R-squ.:                 0.06696\n",
       "Time:                        22:53:21   Log-Likelihood:                -1369.8\n",
       "converged:                       True   LL-Null:                       -1468.1\n",
       "Covariance Type:            nonrobust   LLR p-value:                 3.761e-36\n",
       "===================================================================================\n",
       "                      coef    std err          z      P>|z|      [0.025      0.975]\n",
       "-----------------------------------------------------------------------------------\n",
       "gender              0.4794      0.106      4.521      0.000       0.272       0.687\n",
       "age                 0.0241      0.006      4.124      0.000       0.013       0.035\n",
       "education          -0.1564      0.045     -3.485      0.000      -0.244      -0.068\n",
       "cigsPerDay          0.0114      0.004      2.687      0.007       0.003       0.020\n",
       "BPMeds              0.5288      0.239      2.211      0.027       0.060       0.998\n",
       "prevalentStroke     0.8527      0.478      1.784      0.074      -0.084       1.789\n",
       "prevalentHyp        0.8986      0.126      7.147      0.000       0.652       1.145\n",
       "diabetes            1.1366      0.234      4.851      0.000       0.677       1.596\n",
       "sysBP               0.0123      0.004      3.092      0.002       0.005       0.020\n",
       "diaBP              -0.0288      0.006     -4.486      0.000      -0.041      -0.016\n",
       "BMI                -0.0403      0.012     -3.253      0.001      -0.065      -0.016\n",
       "heartRate          -0.0203      0.004     -5.203      0.000      -0.028      -0.013\n",
       "===================================================================================\n",
       "\"\"\""
      ]
     },
     "execution_count": 30,
     "metadata": {},
     "output_type": "execute_result"
    }
   ],
   "source": [
    "X1_train_copy.drop(['currentSmoker'],axis=1,inplace=True)\n",
    "\n",
    "x=X1_train_copy\n",
    "\n",
    "y=Y1_train.TenYearCHD\n",
    "model=Logit(y,x)\n",
    "result=model.fit()\n",
    "result.summary()"
   ]
  },
  {
   "cell_type": "code",
   "execution_count": 31,
   "metadata": {
    "scrolled": true
   },
   "outputs": [
    {
     "name": "stdout",
     "output_type": "stream",
     "text": [
      "Optimization terminated successfully.\n",
      "         Current function value: 0.404505\n",
      "         Iterations 6\n"
     ]
    },
    {
     "data": {
      "text/html": [
       "<table class=\"simpletable\">\n",
       "<caption>Logit Regression Results</caption>\n",
       "<tr>\n",
       "  <th>Dep. Variable:</th>      <td>TenYearCHD</td>    <th>  No. Observations:  </th>  <td>  3390</td>  \n",
       "</tr>\n",
       "<tr>\n",
       "  <th>Model:</th>                 <td>Logit</td>      <th>  Df Residuals:      </th>  <td>  3379</td>  \n",
       "</tr>\n",
       "<tr>\n",
       "  <th>Method:</th>                 <td>MLE</td>       <th>  Df Model:          </th>  <td>    10</td>  \n",
       "</tr>\n",
       "<tr>\n",
       "  <th>Date:</th>            <td>Sat, 18 Jul 2020</td> <th>  Pseudo R-squ.:     </th>  <td>0.06593</td> \n",
       "</tr>\n",
       "<tr>\n",
       "  <th>Time:</th>                <td>22:53:21</td>     <th>  Log-Likelihood:    </th> <td> -1371.3</td> \n",
       "</tr>\n",
       "<tr>\n",
       "  <th>converged:</th>             <td>True</td>       <th>  LL-Null:           </th> <td> -1468.1</td> \n",
       "</tr>\n",
       "<tr>\n",
       "  <th>Covariance Type:</th>     <td>nonrobust</td>    <th>  LLR p-value:       </th> <td>3.518e-36</td>\n",
       "</tr>\n",
       "</table>\n",
       "<table class=\"simpletable\">\n",
       "<tr>\n",
       "        <td></td>          <th>coef</th>     <th>std err</th>      <th>z</th>      <th>P>|z|</th>  <th>[0.025</th>    <th>0.975]</th>  \n",
       "</tr>\n",
       "<tr>\n",
       "  <th>gender</th>       <td>    0.4800</td> <td>    0.106</td> <td>    4.529</td> <td> 0.000</td> <td>    0.272</td> <td>    0.688</td>\n",
       "</tr>\n",
       "<tr>\n",
       "  <th>age</th>          <td>    0.0245</td> <td>    0.006</td> <td>    4.213</td> <td> 0.000</td> <td>    0.013</td> <td>    0.036</td>\n",
       "</tr>\n",
       "<tr>\n",
       "  <th>education</th>    <td>   -0.1587</td> <td>    0.045</td> <td>   -3.541</td> <td> 0.000</td> <td>   -0.247</td> <td>   -0.071</td>\n",
       "</tr>\n",
       "<tr>\n",
       "  <th>cigsPerDay</th>   <td>    0.0112</td> <td>    0.004</td> <td>    2.650</td> <td> 0.008</td> <td>    0.003</td> <td>    0.020</td>\n",
       "</tr>\n",
       "<tr>\n",
       "  <th>BPMeds</th>       <td>    0.5762</td> <td>    0.237</td> <td>    2.436</td> <td> 0.015</td> <td>    0.113</td> <td>    1.040</td>\n",
       "</tr>\n",
       "<tr>\n",
       "  <th>prevalentHyp</th> <td>    0.9070</td> <td>    0.126</td> <td>    7.223</td> <td> 0.000</td> <td>    0.661</td> <td>    1.153</td>\n",
       "</tr>\n",
       "<tr>\n",
       "  <th>diabetes</th>     <td>    1.1249</td> <td>    0.234</td> <td>    4.800</td> <td> 0.000</td> <td>    0.666</td> <td>    1.584</td>\n",
       "</tr>\n",
       "<tr>\n",
       "  <th>sysBP</th>        <td>    0.0121</td> <td>    0.004</td> <td>    3.043</td> <td> 0.002</td> <td>    0.004</td> <td>    0.020</td>\n",
       "</tr>\n",
       "<tr>\n",
       "  <th>diaBP</th>        <td>   -0.0285</td> <td>    0.006</td> <td>   -4.448</td> <td> 0.000</td> <td>   -0.041</td> <td>   -0.016</td>\n",
       "</tr>\n",
       "<tr>\n",
       "  <th>BMI</th>          <td>   -0.0403</td> <td>    0.012</td> <td>   -3.258</td> <td> 0.001</td> <td>   -0.065</td> <td>   -0.016</td>\n",
       "</tr>\n",
       "<tr>\n",
       "  <th>heartRate</th>    <td>   -0.0204</td> <td>    0.004</td> <td>   -5.238</td> <td> 0.000</td> <td>   -0.028</td> <td>   -0.013</td>\n",
       "</tr>\n",
       "</table>"
      ],
      "text/plain": [
       "<class 'statsmodels.iolib.summary.Summary'>\n",
       "\"\"\"\n",
       "                           Logit Regression Results                           \n",
       "==============================================================================\n",
       "Dep. Variable:             TenYearCHD   No. Observations:                 3390\n",
       "Model:                          Logit   Df Residuals:                     3379\n",
       "Method:                           MLE   Df Model:                           10\n",
       "Date:                Sat, 18 Jul 2020   Pseudo R-squ.:                 0.06593\n",
       "Time:                        22:53:21   Log-Likelihood:                -1371.3\n",
       "converged:                       True   LL-Null:                       -1468.1\n",
       "Covariance Type:            nonrobust   LLR p-value:                 3.518e-36\n",
       "================================================================================\n",
       "                   coef    std err          z      P>|z|      [0.025      0.975]\n",
       "--------------------------------------------------------------------------------\n",
       "gender           0.4800      0.106      4.529      0.000       0.272       0.688\n",
       "age              0.0245      0.006      4.213      0.000       0.013       0.036\n",
       "education       -0.1587      0.045     -3.541      0.000      -0.247      -0.071\n",
       "cigsPerDay       0.0112      0.004      2.650      0.008       0.003       0.020\n",
       "BPMeds           0.5762      0.237      2.436      0.015       0.113       1.040\n",
       "prevalentHyp     0.9070      0.126      7.223      0.000       0.661       1.153\n",
       "diabetes         1.1249      0.234      4.800      0.000       0.666       1.584\n",
       "sysBP            0.0121      0.004      3.043      0.002       0.004       0.020\n",
       "diaBP           -0.0285      0.006     -4.448      0.000      -0.041      -0.016\n",
       "BMI             -0.0403      0.012     -3.258      0.001      -0.065      -0.016\n",
       "heartRate       -0.0204      0.004     -5.238      0.000      -0.028      -0.013\n",
       "================================================================================\n",
       "\"\"\""
      ]
     },
     "execution_count": 31,
     "metadata": {},
     "output_type": "execute_result"
    }
   ],
   "source": [
    "X1_train_copy.drop(['prevalentStroke'],axis=1,inplace=True)\n",
    "X1ch=X1_train_copy.copy()\n",
    "x=X1_train_copy\n",
    "\n",
    "y=Y1_train.TenYearCHD\n",
    "model=Logit(y,x)\n",
    "result1=model.fit()\n",
    "result1.summary()"
   ]
  },
  {
   "cell_type": "code",
   "execution_count": 32,
   "metadata": {},
   "outputs": [],
   "source": [
    "X1_train_copy.drop(['diaBP','heartRate','BPMeds'],axis=1,inplace=True)\n"
   ]
  },
  {
   "cell_type": "code",
   "execution_count": 33,
   "metadata": {},
   "outputs": [
    {
     "name": "stdout",
     "output_type": "stream",
     "text": [
      "Optimization terminated successfully.\n",
      "         Current function value: 0.414578\n",
      "         Iterations 6\n"
     ]
    },
    {
     "data": {
      "text/html": [
       "<table class=\"simpletable\">\n",
       "<caption>Logit Regression Results</caption>\n",
       "<tr>\n",
       "  <th>Dep. Variable:</th>      <td>TenYearCHD</td>    <th>  No. Observations:  </th>  <td>  3390</td>  \n",
       "</tr>\n",
       "<tr>\n",
       "  <th>Model:</th>                 <td>Logit</td>      <th>  Df Residuals:      </th>  <td>  3382</td>  \n",
       "</tr>\n",
       "<tr>\n",
       "  <th>Method:</th>                 <td>MLE</td>       <th>  Df Model:          </th>  <td>     7</td>  \n",
       "</tr>\n",
       "<tr>\n",
       "  <th>Date:</th>            <td>Sat, 18 Jul 2020</td> <th>  Pseudo R-squ.:     </th>  <td>0.04267</td> \n",
       "</tr>\n",
       "<tr>\n",
       "  <th>Time:</th>                <td>22:53:21</td>     <th>  Log-Likelihood:    </th> <td> -1405.4</td> \n",
       "</tr>\n",
       "<tr>\n",
       "  <th>converged:</th>             <td>True</td>       <th>  LL-Null:           </th> <td> -1468.1</td> \n",
       "</tr>\n",
       "<tr>\n",
       "  <th>Covariance Type:</th>     <td>nonrobust</td>    <th>  LLR p-value:       </th> <td>6.054e-24</td>\n",
       "</tr>\n",
       "</table>\n",
       "<table class=\"simpletable\">\n",
       "<tr>\n",
       "        <td></td>          <th>coef</th>     <th>std err</th>      <th>z</th>      <th>P>|z|</th>  <th>[0.025</th>    <th>0.975]</th>  \n",
       "</tr>\n",
       "<tr>\n",
       "  <th>gender</th>       <td>    0.4685</td> <td>    0.102</td> <td>    4.579</td> <td> 0.000</td> <td>    0.268</td> <td>    0.669</td>\n",
       "</tr>\n",
       "<tr>\n",
       "  <th>age</th>          <td>    0.0190</td> <td>    0.006</td> <td>    3.357</td> <td> 0.001</td> <td>    0.008</td> <td>    0.030</td>\n",
       "</tr>\n",
       "<tr>\n",
       "  <th>education</th>    <td>   -0.2215</td> <td>    0.045</td> <td>   -4.951</td> <td> 0.000</td> <td>   -0.309</td> <td>   -0.134</td>\n",
       "</tr>\n",
       "<tr>\n",
       "  <th>cigsPerDay</th>   <td>    0.0045</td> <td>    0.004</td> <td>    1.101</td> <td> 0.271</td> <td>   -0.004</td> <td>    0.013</td>\n",
       "</tr>\n",
       "<tr>\n",
       "  <th>prevalentHyp</th> <td>    1.0931</td> <td>    0.120</td> <td>    9.134</td> <td> 0.000</td> <td>    0.859</td> <td>    1.328</td>\n",
       "</tr>\n",
       "<tr>\n",
       "  <th>diabetes</th>     <td>    1.2287</td> <td>    0.230</td> <td>    5.348</td> <td> 0.000</td> <td>    0.778</td> <td>    1.679</td>\n",
       "</tr>\n",
       "<tr>\n",
       "  <th>sysBP</th>        <td>   -0.0058</td> <td>    0.003</td> <td>   -2.135</td> <td> 0.033</td> <td>   -0.011</td> <td>   -0.000</td>\n",
       "</tr>\n",
       "<tr>\n",
       "  <th>BMI</th>          <td>   -0.0820</td> <td>    0.011</td> <td>   -7.280</td> <td> 0.000</td> <td>   -0.104</td> <td>   -0.060</td>\n",
       "</tr>\n",
       "</table>"
      ],
      "text/plain": [
       "<class 'statsmodels.iolib.summary.Summary'>\n",
       "\"\"\"\n",
       "                           Logit Regression Results                           \n",
       "==============================================================================\n",
       "Dep. Variable:             TenYearCHD   No. Observations:                 3390\n",
       "Model:                          Logit   Df Residuals:                     3382\n",
       "Method:                           MLE   Df Model:                            7\n",
       "Date:                Sat, 18 Jul 2020   Pseudo R-squ.:                 0.04267\n",
       "Time:                        22:53:21   Log-Likelihood:                -1405.4\n",
       "converged:                       True   LL-Null:                       -1468.1\n",
       "Covariance Type:            nonrobust   LLR p-value:                 6.054e-24\n",
       "================================================================================\n",
       "                   coef    std err          z      P>|z|      [0.025      0.975]\n",
       "--------------------------------------------------------------------------------\n",
       "gender           0.4685      0.102      4.579      0.000       0.268       0.669\n",
       "age              0.0190      0.006      3.357      0.001       0.008       0.030\n",
       "education       -0.2215      0.045     -4.951      0.000      -0.309      -0.134\n",
       "cigsPerDay       0.0045      0.004      1.101      0.271      -0.004       0.013\n",
       "prevalentHyp     1.0931      0.120      9.134      0.000       0.859       1.328\n",
       "diabetes         1.2287      0.230      5.348      0.000       0.778       1.679\n",
       "sysBP           -0.0058      0.003     -2.135      0.033      -0.011      -0.000\n",
       "BMI             -0.0820      0.011     -7.280      0.000      -0.104      -0.060\n",
       "================================================================================\n",
       "\"\"\""
      ]
     },
     "execution_count": 33,
     "metadata": {},
     "output_type": "execute_result"
    }
   ],
   "source": [
    "x=X1_train_copy\n",
    "\n",
    "y=Y1_train.TenYearCHD\n",
    "model=Logit(y,x)\n",
    "result=model.fit()\n",
    "result.summary()"
   ]
  },
  {
   "cell_type": "code",
   "execution_count": 34,
   "metadata": {},
   "outputs": [],
   "source": [
    "X1_train_copy.drop(['cigsPerDay'],axis=1,inplace=True)"
   ]
  },
  {
   "cell_type": "code",
   "execution_count": 35,
   "metadata": {},
   "outputs": [
    {
     "name": "stdout",
     "output_type": "stream",
     "text": [
      "Optimization terminated successfully.\n",
      "         Current function value: 0.414755\n",
      "         Iterations 6\n"
     ]
    },
    {
     "data": {
      "text/html": [
       "<table class=\"simpletable\">\n",
       "<caption>Logit Regression Results</caption>\n",
       "<tr>\n",
       "  <th>Dep. Variable:</th>      <td>TenYearCHD</td>    <th>  No. Observations:  </th>  <td>  3390</td>  \n",
       "</tr>\n",
       "<tr>\n",
       "  <th>Model:</th>                 <td>Logit</td>      <th>  Df Residuals:      </th>  <td>  3383</td>  \n",
       "</tr>\n",
       "<tr>\n",
       "  <th>Method:</th>                 <td>MLE</td>       <th>  Df Model:          </th>  <td>     6</td>  \n",
       "</tr>\n",
       "<tr>\n",
       "  <th>Date:</th>            <td>Sat, 18 Jul 2020</td> <th>  Pseudo R-squ.:     </th>  <td>0.04226</td> \n",
       "</tr>\n",
       "<tr>\n",
       "  <th>Time:</th>                <td>22:53:21</td>     <th>  Log-Likelihood:    </th> <td> -1406.0</td> \n",
       "</tr>\n",
       "<tr>\n",
       "  <th>converged:</th>             <td>True</td>       <th>  LL-Null:           </th> <td> -1468.1</td> \n",
       "</tr>\n",
       "<tr>\n",
       "  <th>Covariance Type:</th>     <td>nonrobust</td>    <th>  LLR p-value:       </th> <td>2.254e-24</td>\n",
       "</tr>\n",
       "</table>\n",
       "<table class=\"simpletable\">\n",
       "<tr>\n",
       "        <td></td>          <th>coef</th>     <th>std err</th>      <th>z</th>      <th>P>|z|</th>  <th>[0.025</th>    <th>0.975]</th>  \n",
       "</tr>\n",
       "<tr>\n",
       "  <th>gender</th>       <td>    0.5045</td> <td>    0.097</td> <td>    5.212</td> <td> 0.000</td> <td>    0.315</td> <td>    0.694</td>\n",
       "</tr>\n",
       "<tr>\n",
       "  <th>age</th>          <td>    0.0183</td> <td>    0.006</td> <td>    3.255</td> <td> 0.001</td> <td>    0.007</td> <td>    0.029</td>\n",
       "</tr>\n",
       "<tr>\n",
       "  <th>education</th>    <td>   -0.2197</td> <td>    0.045</td> <td>   -4.920</td> <td> 0.000</td> <td>   -0.307</td> <td>   -0.132</td>\n",
       "</tr>\n",
       "<tr>\n",
       "  <th>prevalentHyp</th> <td>    1.0759</td> <td>    0.119</td> <td>    9.072</td> <td> 0.000</td> <td>    0.843</td> <td>    1.308</td>\n",
       "</tr>\n",
       "<tr>\n",
       "  <th>diabetes</th>     <td>    1.2182</td> <td>    0.230</td> <td>    5.302</td> <td> 0.000</td> <td>    0.768</td> <td>    1.669</td>\n",
       "</tr>\n",
       "<tr>\n",
       "  <th>sysBP</th>        <td>   -0.0053</td> <td>    0.003</td> <td>   -2.000</td> <td> 0.045</td> <td>   -0.011</td> <td>   -0.000</td>\n",
       "</tr>\n",
       "<tr>\n",
       "  <th>BMI</th>          <td>   -0.0817</td> <td>    0.011</td> <td>   -7.260</td> <td> 0.000</td> <td>   -0.104</td> <td>   -0.060</td>\n",
       "</tr>\n",
       "</table>"
      ],
      "text/plain": [
       "<class 'statsmodels.iolib.summary.Summary'>\n",
       "\"\"\"\n",
       "                           Logit Regression Results                           \n",
       "==============================================================================\n",
       "Dep. Variable:             TenYearCHD   No. Observations:                 3390\n",
       "Model:                          Logit   Df Residuals:                     3383\n",
       "Method:                           MLE   Df Model:                            6\n",
       "Date:                Sat, 18 Jul 2020   Pseudo R-squ.:                 0.04226\n",
       "Time:                        22:53:21   Log-Likelihood:                -1406.0\n",
       "converged:                       True   LL-Null:                       -1468.1\n",
       "Covariance Type:            nonrobust   LLR p-value:                 2.254e-24\n",
       "================================================================================\n",
       "                   coef    std err          z      P>|z|      [0.025      0.975]\n",
       "--------------------------------------------------------------------------------\n",
       "gender           0.5045      0.097      5.212      0.000       0.315       0.694\n",
       "age              0.0183      0.006      3.255      0.001       0.007       0.029\n",
       "education       -0.2197      0.045     -4.920      0.000      -0.307      -0.132\n",
       "prevalentHyp     1.0759      0.119      9.072      0.000       0.843       1.308\n",
       "diabetes         1.2182      0.230      5.302      0.000       0.768       1.669\n",
       "sysBP           -0.0053      0.003     -2.000      0.045      -0.011      -0.000\n",
       "BMI             -0.0817      0.011     -7.260      0.000      -0.104      -0.060\n",
       "================================================================================\n",
       "\"\"\""
      ]
     },
     "execution_count": 35,
     "metadata": {},
     "output_type": "execute_result"
    }
   ],
   "source": [
    "x=X1_train_copy\n",
    "\n",
    "y=Y1_train.TenYearCHD\n",
    "model=Logit(y,x)\n",
    "result=model.fit()\n",
    "result.summary()"
   ]
  },
  {
   "cell_type": "code",
   "execution_count": 36,
   "metadata": {},
   "outputs": [
    {
     "name": "stdout",
     "output_type": "stream",
     "text": [
      "gender          1.656171\n",
      "age             1.018453\n",
      "education       0.802762\n",
      "prevalentHyp    2.932675\n",
      "diabetes        3.381247\n",
      "sysBP           0.994671\n",
      "BMI             0.921543\n",
      "dtype: float64\n"
     ]
    }
   ],
   "source": [
    "print(np.exp(result.params))"
   ]
  },
  {
   "cell_type": "markdown",
   "metadata": {},
   "source": [
    "Interpretation:\n",
    "\n",
    "Males have 65% high risk of CHD \n",
    "An increase of 1 year age increases the risk of CHD by 1.8%. \n",
    "As level of education increases by one level, rsik drops by 20%. \n",
    "Prevalent hypertension increases the risk by 200%\n",
    "Diabetes by 238%. \n",
    "\n",
    "But when we removed the correlated variable diaBP, BPMeds, and unrelated heartrate, cigsperday became insignificant. There is a possibility that it is factor that only affects with the presence of any other variable. \n",
    "\n",
    "Let's consider the model before that. "
   ]
  },
  {
   "cell_type": "code",
   "execution_count": 37,
   "metadata": {},
   "outputs": [
    {
     "name": "stdout",
     "output_type": "stream",
     "text": [
      "gender          1.616025\n",
      "age             1.024833\n",
      "education       0.853244\n",
      "cigsPerDay      1.011280\n",
      "BPMeds          1.779265\n",
      "prevalentHyp    2.476794\n",
      "diabetes        3.079995\n",
      "sysBP           1.012202\n",
      "diaBP           0.971881\n",
      "BMI             0.960475\n",
      "heartRate       0.979796\n",
      "dtype: float64\n"
     ]
    }
   ],
   "source": [
    "print(np.exp(result1.params))"
   ]
  },
  {
   "cell_type": "markdown",
   "metadata": {},
   "source": [
    "1 extra cigarette per day increases the risk of CHD by 1.1%. "
   ]
  },
  {
   "cell_type": "markdown",
   "metadata": {},
   "source": [
    "Now let's run all the previous algo with this model. "
   ]
  },
  {
   "cell_type": "markdown",
   "metadata": {},
   "source": [
    "We need to make new test dataset.\n"
   ]
  },
  {
   "cell_type": "code",
   "execution_count": 38,
   "metadata": {},
   "outputs": [
    {
     "name": "stderr",
     "output_type": "stream",
     "text": [
      "C:\\Users\\hksid\\anaconda3\\lib\\site-packages\\pandas\\core\\frame.py:3997: SettingWithCopyWarning: \n",
      "A value is trying to be set on a copy of a slice from a DataFrame\n",
      "\n",
      "See the caveats in the documentation: https://pandas.pydata.org/pandas-docs/stable/user_guide/indexing.html#returning-a-view-versus-a-copy\n",
      "  errors=errors,\n"
     ]
    }
   ],
   "source": [
    "X1_test.drop(['currentSmoker','cigsPerDay','BPMeds','prevalentStroke','totChol','diaBP','glucose'],axis=1,inplace=True)"
   ]
  },
  {
   "cell_type": "code",
   "execution_count": 39,
   "metadata": {},
   "outputs": [],
   "source": [
    "X1_test.drop(['heartRate'],axis=1,inplace=True)"
   ]
  },
  {
   "cell_type": "code",
   "execution_count": 40,
   "metadata": {},
   "outputs": [
    {
     "data": {
      "text/html": [
       "<div>\n",
       "<style scoped>\n",
       "    .dataframe tbody tr th:only-of-type {\n",
       "        vertical-align: middle;\n",
       "    }\n",
       "\n",
       "    .dataframe tbody tr th {\n",
       "        vertical-align: top;\n",
       "    }\n",
       "\n",
       "    .dataframe thead th {\n",
       "        text-align: right;\n",
       "    }\n",
       "</style>\n",
       "<table border=\"1\" class=\"dataframe\">\n",
       "  <thead>\n",
       "    <tr style=\"text-align: right;\">\n",
       "      <th></th>\n",
       "      <th>gender</th>\n",
       "      <th>age</th>\n",
       "      <th>education</th>\n",
       "      <th>prevalentHyp</th>\n",
       "      <th>diabetes</th>\n",
       "      <th>sysBP</th>\n",
       "      <th>BMI</th>\n",
       "    </tr>\n",
       "  </thead>\n",
       "  <tbody>\n",
       "    <tr>\n",
       "      <th>906</th>\n",
       "      <td>1</td>\n",
       "      <td>53</td>\n",
       "      <td>1.0</td>\n",
       "      <td>0</td>\n",
       "      <td>0</td>\n",
       "      <td>127.0</td>\n",
       "      <td>24.27</td>\n",
       "    </tr>\n",
       "    <tr>\n",
       "      <th>857</th>\n",
       "      <td>0</td>\n",
       "      <td>44</td>\n",
       "      <td>1.0</td>\n",
       "      <td>0</td>\n",
       "      <td>0</td>\n",
       "      <td>118.0</td>\n",
       "      <td>23.09</td>\n",
       "    </tr>\n",
       "    <tr>\n",
       "      <th>2761</th>\n",
       "      <td>0</td>\n",
       "      <td>44</td>\n",
       "      <td>4.0</td>\n",
       "      <td>0</td>\n",
       "      <td>0</td>\n",
       "      <td>109.0</td>\n",
       "      <td>17.48</td>\n",
       "    </tr>\n",
       "    <tr>\n",
       "      <th>108</th>\n",
       "      <td>0</td>\n",
       "      <td>66</td>\n",
       "      <td>1.0</td>\n",
       "      <td>1</td>\n",
       "      <td>0</td>\n",
       "      <td>187.0</td>\n",
       "      <td>40.52</td>\n",
       "    </tr>\n",
       "    <tr>\n",
       "      <th>2894</th>\n",
       "      <td>0</td>\n",
       "      <td>38</td>\n",
       "      <td>1.0</td>\n",
       "      <td>0</td>\n",
       "      <td>0</td>\n",
       "      <td>90.0</td>\n",
       "      <td>18.18</td>\n",
       "    </tr>\n",
       "  </tbody>\n",
       "</table>\n",
       "</div>"
      ],
      "text/plain": [
       "      gender  age  education  prevalentHyp  diabetes  sysBP    BMI\n",
       "906        1   53        1.0             0         0  127.0  24.27\n",
       "857        0   44        1.0             0         0  118.0  23.09\n",
       "2761       0   44        4.0             0         0  109.0  17.48\n",
       "108        0   66        1.0             1         0  187.0  40.52\n",
       "2894       0   38        1.0             0         0   90.0  18.18"
      ]
     },
     "execution_count": 40,
     "metadata": {},
     "output_type": "execute_result"
    }
   ],
   "source": [
    "X1_test.head()"
   ]
  },
  {
   "cell_type": "code",
   "execution_count": 41,
   "metadata": {},
   "outputs": [],
   "source": [
    "accuracies_reduced={}"
   ]
  },
  {
   "cell_type": "code",
   "execution_count": 42,
   "metadata": {},
   "outputs": [
    {
     "name": "stderr",
     "output_type": "stream",
     "text": [
      "C:\\Users\\hksid\\anaconda3\\lib\\site-packages\\ipykernel_launcher.py:3: DataConversionWarning: A column-vector y was passed when a 1d array was expected. Please change the shape of y to (n_samples,), for example using ravel().\n",
      "  This is separate from the ipykernel package so we can avoid doing imports until\n"
     ]
    },
    {
     "data": {
      "text/plain": [
       "85.25943396226415"
      ]
     },
     "execution_count": 42,
     "metadata": {},
     "output_type": "execute_result"
    }
   ],
   "source": [
    "from sklearn.ensemble import RandomForestClassifier\n",
    "rf = RandomForestClassifier(n_estimators = 1000, random_state = 1)\n",
    "rf.fit(X1_train_copy, Y_train)\n",
    "\n",
    "acc = rf.score(X1_test,Y_test)*100\n",
    "accuracies_reduced['Random forest'] = acc\n",
    "acc"
   ]
  },
  {
   "cell_type": "code",
   "execution_count": 43,
   "metadata": {},
   "outputs": [
    {
     "name": "stderr",
     "output_type": "stream",
     "text": [
      "C:\\Users\\hksid\\anaconda3\\lib\\site-packages\\sklearn\\utils\\validation.py:760: DataConversionWarning: A column-vector y was passed when a 1d array was expected. Please change the shape of y to (n_samples, ), for example using ravel().\n",
      "  y = column_or_1d(y, warn=True)\n",
      "C:\\Users\\hksid\\anaconda3\\lib\\site-packages\\sklearn\\linear_model\\_logistic.py:940: ConvergenceWarning: lbfgs failed to converge (status=1):\n",
      "STOP: TOTAL NO. of ITERATIONS REACHED LIMIT.\n",
      "\n",
      "Increase the number of iterations (max_iter) or scale the data as shown in:\n",
      "    https://scikit-learn.org/stable/modules/preprocessing.html\n",
      "Please also refer to the documentation for alternative solver options:\n",
      "    https://scikit-learn.org/stable/modules/linear_model.html#logistic-regression\n",
      "  extra_warning_msg=_LOGISTIC_SOLVER_CONVERGENCE_MSG)\n"
     ]
    }
   ],
   "source": [
    "logistic_regression= LogisticRegression()\n",
    "logistic_regression.fit(X1_train_copy,Y_train)\n",
    "Y_pred=logistic_regression.predict(X1_test)"
   ]
  },
  {
   "cell_type": "code",
   "execution_count": 44,
   "metadata": {},
   "outputs": [
    {
     "data": {
      "text/plain": [
       "0.8584905660377359"
      ]
     },
     "execution_count": 44,
     "metadata": {},
     "output_type": "execute_result"
    }
   ],
   "source": [
    "acc=metrics.accuracy_score(Y_test, Y_pred)\n",
    "\n",
    "accuracies_reduced['Logistic Regression'] = acc*100\n",
    "acc"
   ]
  },
  {
   "cell_type": "code",
   "execution_count": 45,
   "metadata": {},
   "outputs": [
    {
     "name": "stderr",
     "output_type": "stream",
     "text": [
      "C:\\Users\\hksid\\anaconda3\\lib\\site-packages\\sklearn\\utils\\validation.py:760: DataConversionWarning: A column-vector y was passed when a 1d array was expected. Please change the shape of y to (n_samples, ), for example using ravel().\n",
      "  y = column_or_1d(y, warn=True)\n"
     ]
    },
    {
     "data": {
      "text/plain": [
       "86.43867924528303"
      ]
     },
     "execution_count": 45,
     "metadata": {},
     "output_type": "execute_result"
    }
   ],
   "source": [
    "from sklearn.svm import SVC\n",
    "svm = SVC(random_state = 1)\n",
    "svm.fit(X1_train_copy, Y_train)\n",
    "\n",
    "acc= svm.score(X1_test,Y_test)*100\n",
    "\n",
    "accuracies_reduced['SVC'] = acc\n",
    "acc"
   ]
  },
  {
   "cell_type": "code",
   "execution_count": 46,
   "metadata": {},
   "outputs": [
    {
     "name": "stderr",
     "output_type": "stream",
     "text": [
      "C:\\Users\\hksid\\anaconda3\\lib\\site-packages\\ipykernel_launcher.py:3: DataConversionWarning: A column-vector y was passed when a 1d array was expected. Please change the shape of y to (n_samples, ), for example using ravel().\n",
      "  This is separate from the ipykernel package so we can avoid doing imports until\n"
     ]
    },
    {
     "data": {
      "text/plain": [
       "85.37735849056604"
      ]
     },
     "execution_count": 46,
     "metadata": {},
     "output_type": "execute_result"
    }
   ],
   "source": [
    "from sklearn.neighbors import KNeighborsClassifier\n",
    "knn = KNeighborsClassifier(n_neighbors = 4)  # n_neighbors means k\n",
    "knn.fit(X1_train_copy, Y_train)\n",
    "prediction = knn.predict(X1_test)\n",
    "\n",
    "acc= knn.score(X1_test, Y_test)*100\n",
    "accuracies_reduced['KNN'] = acc\n",
    "acc"
   ]
  },
  {
   "cell_type": "code",
   "execution_count": 47,
   "metadata": {},
   "outputs": [
    {
     "name": "stderr",
     "output_type": "stream",
     "text": [
      "C:\\Users\\hksid\\anaconda3\\lib\\site-packages\\sklearn\\naive_bayes.py:206: DataConversionWarning: A column-vector y was passed when a 1d array was expected. Please change the shape of y to (n_samples, ), for example using ravel().\n",
      "  y = column_or_1d(y, warn=True)\n"
     ]
    },
    {
     "data": {
      "text/plain": [
       "81.60377358490565"
      ]
     },
     "execution_count": 47,
     "metadata": {},
     "output_type": "execute_result"
    }
   ],
   "source": [
    "from sklearn.naive_bayes import GaussianNB\n",
    "nb = GaussianNB()\n",
    "nb.fit(X1_train_copy, Y_train)\n",
    "\n",
    "acc= nb.score(X1_test,Y_test)*100\n",
    "\n",
    "accuracies_reduced['Naive Bayes'] = acc\n",
    "acc"
   ]
  },
  {
   "cell_type": "code",
   "execution_count": 48,
   "metadata": {},
   "outputs": [
    {
     "data": {
      "text/plain": [
       "76.41509433962264"
      ]
     },
     "execution_count": 48,
     "metadata": {},
     "output_type": "execute_result"
    }
   ],
   "source": [
    "from sklearn.tree import DecisionTreeClassifier\n",
    "dtc = DecisionTreeClassifier()\n",
    "dtc.fit(X1_train_copy, Y_train)\n",
    "\n",
    "acc = dtc.score(X1_test,Y_test)*100\n",
    "accuracies_reduced['Decision Tree'] = acc\n",
    "acc\n"
   ]
  },
  {
   "cell_type": "code",
   "execution_count": 49,
   "metadata": {},
   "outputs": [
    {
     "data": {
      "image/png": "[encoded data removed]",
      "text/plain": [
       "<Figure size 1152x720 with 1 Axes>"
      ]
     },
     "metadata": {},
     "output_type": "display_data"
    }
   ],
   "source": [
    "colors = [\"purple\", \"green\", \"orange\", \"magenta\",\"#CFC60E\",\"#0FBBAE\"]\n",
    "\n",
    "sns.set_style(\"whitegrid\")\n",
    "plt.figure(figsize=(16,10))\n",
    "plt.yticks(np.arange(0,100,10))\n",
    "plt.ylabel(\"Accuracy %\")\n",
    "plt.xlabel(\"Algorithms\")\n",
    "sns.barplot(x=list(accuracies_reduced.keys()), y=list(accuracies_reduced.values()), palette=colors)\n",
    "plt.show()"
   ]
  },
  {
   "cell_type": "code",
   "execution_count": 50,
   "metadata": {},
   "outputs": [
    {
     "data": {
      "image/png": "[encoded data removed]",
      "text/plain": [
       "<Figure size 1152x720 with 1 Axes>"
      ]
     },
     "metadata": {},
     "output_type": "display_data"
    }
   ],
   "source": [
    "colors = [\"purple\", \"green\", \"orange\", \"magenta\",\"#CFC60E\",\"#0FBBAE\"]\n",
    "\n",
    "sns.set_style(\"whitegrid\")\n",
    "plt.figure(figsize=(16,10))\n",
    "plt.yticks(np.arange(0,100,10))\n",
    "plt.ylabel(\"Accuracy %\")\n",
    "plt.xlabel(\"Algorithms\")\n",
    "sns.barplot(x=list(accuracies_allvariable.keys()), y=list(accuracies_allvariable.values()), palette=colors)\n",
    "plt.show()"
   ]
  },
  {
   "cell_type": "code",
   "execution_count": null,
   "metadata": {},
   "outputs": [],
   "source": []
  }
 ],
 "metadata": {
  "kernelspec": {
   "display_name": "Python 3",
   "language": "python",
   "name": "python3"
  },
  "language_info": {
   "codemirror_mode": {
    "name": "ipython",
    "version": 3
   },
   "file_extension": ".py",
   "mimetype": "text/x-python",
   "name": "python",
   "nbconvert_exporter": "python",
   "pygments_lexer": "ipython3",
   "version": "3.7.6"
  }
 },
 "nbformat": 4,
 "nbformat_minor": 4
}
